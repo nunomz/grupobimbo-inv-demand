{
 "cells": [
  {
   "cell_type": "code",
   "execution_count": 46,
   "id": "82c4b7a0",
   "metadata": {},
   "outputs": [],
   "source": [
    "# eliminar colunas com pouca correlacao\n",
    "# engenhocar outras\n",
    "import pandas as pd\n",
    "import numpy as np\n",
    "import seaborn as sns\n",
    "import matplotlib.pyplot as plt\n",
    "import cane\n",
    "from sklearn.preprocessing import MinMaxScaler\n",
    "%run -i create_target.py\n",
    "#https://towardsdatascience.com/data-normalization-with-pandas-and-scikit-learn-7c1cc6ed6475\n",
    "#https://pbpython.com/categorical-encoding.html"
   ]
  },
  {
   "cell_type": "code",
   "execution_count": 47,
   "id": "7efb7b59",
   "metadata": {},
   "outputs": [
    {
     "data": {
      "text/html": [
       "<div>\n",
       "<style scoped>\n",
       "    .dataframe tbody tr th:only-of-type {\n",
       "        vertical-align: middle;\n",
       "    }\n",
       "\n",
       "    .dataframe tbody tr th {\n",
       "        vertical-align: top;\n",
       "    }\n",
       "\n",
       "    .dataframe thead th {\n",
       "        text-align: right;\n",
       "    }\n",
       "</style>\n",
       "<table border=\"1\" class=\"dataframe\">\n",
       "  <thead>\n",
       "    <tr style=\"text-align: right;\">\n",
       "      <th></th>\n",
       "      <th>week_number</th>\n",
       "      <th>sales_depot_id</th>\n",
       "      <th>sales_channel_id</th>\n",
       "      <th>route_id</th>\n",
       "      <th>client_id</th>\n",
       "      <th>product_id</th>\n",
       "      <th>town</th>\n",
       "      <th>state</th>\n",
       "      <th>client_name</th>\n",
       "      <th>short_name</th>\n",
       "      <th>brand</th>\n",
       "      <th>weight</th>\n",
       "      <th>pieces</th>\n",
       "      <th>target</th>\n",
       "    </tr>\n",
       "  </thead>\n",
       "  <tbody>\n",
       "    <tr>\n",
       "      <th>0</th>\n",
       "      <td>6</td>\n",
       "      <td>1310</td>\n",
       "      <td>1</td>\n",
       "      <td>2005</td>\n",
       "      <td>32695</td>\n",
       "      <td>43066</td>\n",
       "      <td>2260 GONZALEZ GALLO</td>\n",
       "      <td>JALISCO</td>\n",
       "      <td>MARIA GRACIELA ROCHA GUTIERREZ</td>\n",
       "      <td>Pay Pina</td>\n",
       "      <td>MLA</td>\n",
       "      <td>85.0</td>\n",
       "      <td>1.0</td>\n",
       "      <td>0.0</td>\n",
       "    </tr>\n",
       "    <tr>\n",
       "      <th>1</th>\n",
       "      <td>3</td>\n",
       "      <td>2029</td>\n",
       "      <td>1</td>\n",
       "      <td>1126</td>\n",
       "      <td>1048394</td>\n",
       "      <td>1309</td>\n",
       "      <td>2161 IRAPUATO GUADALUPE</td>\n",
       "      <td>GUANAJUATO</td>\n",
       "      <td>ARACELI ESTRADA PALATO</td>\n",
       "      <td>Bimbunuelos</td>\n",
       "      <td>BIM</td>\n",
       "      <td>66.0</td>\n",
       "      <td>4.0</td>\n",
       "      <td>0.0</td>\n",
       "    </tr>\n",
       "    <tr>\n",
       "      <th>2</th>\n",
       "      <td>4</td>\n",
       "      <td>2022</td>\n",
       "      <td>1</td>\n",
       "      <td>1221</td>\n",
       "      <td>2036290</td>\n",
       "      <td>1278</td>\n",
       "      <td>2152 ALTAMIRANO_BM</td>\n",
       "      <td>GUERRERO</td>\n",
       "      <td>EULOGIA</td>\n",
       "      <td>Nito</td>\n",
       "      <td>BIM</td>\n",
       "      <td>62.0</td>\n",
       "      <td>1.0</td>\n",
       "      <td>1.0</td>\n",
       "    </tr>\n",
       "    <tr>\n",
       "      <th>3</th>\n",
       "      <td>4</td>\n",
       "      <td>4041</td>\n",
       "      <td>1</td>\n",
       "      <td>1054</td>\n",
       "      <td>153108</td>\n",
       "      <td>5707</td>\n",
       "      <td>2368 TAMPICO BIMBO</td>\n",
       "      <td>TAMAULIPAS</td>\n",
       "      <td>ENCINO 2</td>\n",
       "      <td>Tostada Ondulada Tubo</td>\n",
       "      <td>MR</td>\n",
       "      <td>360.0</td>\n",
       "      <td>30.0</td>\n",
       "      <td>0.0</td>\n",
       "    </tr>\n",
       "    <tr>\n",
       "      <th>4</th>\n",
       "      <td>6</td>\n",
       "      <td>1116</td>\n",
       "      <td>1</td>\n",
       "      <td>1058</td>\n",
       "      <td>115369</td>\n",
       "      <td>1146</td>\n",
       "      <td>2011 AG. SAN ANTONIO</td>\n",
       "      <td>MÉXICO, D.F.</td>\n",
       "      <td>LAS FLORES</td>\n",
       "      <td>Pan Integral</td>\n",
       "      <td>BIM</td>\n",
       "      <td>675.0</td>\n",
       "      <td>unknown</td>\n",
       "      <td>0.0</td>\n",
       "    </tr>\n",
       "  </tbody>\n",
       "</table>\n",
       "</div>"
      ],
      "text/plain": [
       "   week_number  sales_depot_id  sales_channel_id  route_id  client_id  \\\n",
       "0            6            1310                 1      2005      32695   \n",
       "1            3            2029                 1      1126    1048394   \n",
       "2            4            2022                 1      1221    2036290   \n",
       "3            4            4041                 1      1054     153108   \n",
       "4            6            1116                 1      1058     115369   \n",
       "\n",
       "   product_id                     town         state  \\\n",
       "0       43066      2260 GONZALEZ GALLO       JALISCO   \n",
       "1        1309  2161 IRAPUATO GUADALUPE    GUANAJUATO   \n",
       "2        1278       2152 ALTAMIRANO_BM      GUERRERO   \n",
       "3        5707       2368 TAMPICO BIMBO    TAMAULIPAS   \n",
       "4        1146     2011 AG. SAN ANTONIO  MÉXICO, D.F.   \n",
       "\n",
       "                      client_name              short_name brand  weight  \\\n",
       "0  MARIA GRACIELA ROCHA GUTIERREZ               Pay Pina    MLA    85.0   \n",
       "1          ARACELI ESTRADA PALATO            Bimbunuelos    BIM    66.0   \n",
       "2                         EULOGIA                   Nito    BIM    62.0   \n",
       "3                        ENCINO 2  Tostada Ondulada Tubo     MR   360.0   \n",
       "4                      LAS FLORES           Pan Integral    BIM   675.0   \n",
       "\n",
       "    pieces  target  \n",
       "0      1.0     0.0  \n",
       "1      4.0     0.0  \n",
       "2      1.0     1.0  \n",
       "3     30.0     0.0  \n",
       "4  unknown     0.0  "
      ]
     },
     "execution_count": 47,
     "metadata": {},
     "output_type": "execute_result"
    }
   ],
   "source": [
    "#df = pd.read_csv(\"data/00-merged.csv\")\n",
    "#df = pd.read_csv(\"data/02-outliers-aiq.csv\")\n",
    "df = pd.read_csv(\"dados/03-outliers-zscore15.csv\")\n",
    "df.head(5)"
   ]
  },
  {
   "cell_type": "markdown",
   "id": "be4b85a3",
   "metadata": {},
   "source": [
    "# feature selection and preparation"
   ]
  },
  {
   "attachments": {
    "image.png": {
     "image/png": "[encoded data removed]"
    }
   },
   "cell_type": "markdown",
   "id": "cb704f66",
   "metadata": {},
   "source": [
    "![image.png](attachment:image.png)"
   ]
  },
  {
   "cell_type": "markdown",
   "id": "e484ef54",
   "metadata": {},
   "source": [
    " - ## week_number"
   ]
  },
  {
   "cell_type": "markdown",
   "id": "7da3f7c5",
   "metadata": {},
   "source": [
    "low correlation to target. remove"
   ]
  },
  {
   "cell_type": "code",
   "execution_count": 5,
   "id": "4a327042",
   "metadata": {},
   "outputs": [],
   "source": [
    "dfe = df.drop(columns=['week_number'])"
   ]
  },
  {
   "cell_type": "markdown",
   "id": "d150ba80",
   "metadata": {},
   "source": [
    " - ## sales_depot_id"
   ]
  },
  {
   "cell_type": "markdown",
   "id": "3bd07365",
   "metadata": {},
   "source": [
    "low correlation to target. remove"
   ]
  },
  {
   "cell_type": "code",
   "execution_count": 6,
   "id": "17847345",
   "metadata": {},
   "outputs": [],
   "source": [
    "dfe = dfe.drop(columns=['sales_depot_id'])"
   ]
  },
  {
   "cell_type": "markdown",
   "id": "5e1e299b",
   "metadata": {},
   "source": [
    " - ## sales_channel_id"
   ]
  },
  {
   "cell_type": "markdown",
   "id": "e9c7dc5a",
   "metadata": {},
   "source": [
    "some correlation to target. we investigate"
   ]
  },
  {
   "cell_type": "code",
   "execution_count": null,
   "id": "7e0a6005",
   "metadata": {},
   "outputs": [],
   "source": [
    "dfe['sales_channel_id'].describe()"
   ]
  },
  {
   "cell_type": "code",
   "execution_count": null,
   "id": "a695c5fd",
   "metadata": {},
   "outputs": [],
   "source": [
    "dfe.groupby('sales_channel_id').size()/dfe['sales_channel_id'].count()"
   ]
  },
  {
   "cell_type": "markdown",
   "id": "63009294",
   "metadata": {},
   "source": [
    "we keep, with IDF"
   ]
  },
  {
   "cell_type": "code",
   "execution_count": 8,
   "id": "4c339c61",
   "metadata": {},
   "outputs": [
    {
     "data": {
      "application/vnd.jupyter.widget-view+json": {
       "model_id": "af0a2fa9289748aa9e234fa9bcc06e4d",
       "version_major": 2,
       "version_minor": 0
      },
      "text/plain": [
       "QUEUEING TASKS | :   0%|          | 0/1 [00:00<?, ?it/s]"
      ]
     },
     "metadata": {},
     "output_type": "display_data"
    },
    {
     "data": {
      "application/vnd.jupyter.widget-view+json": {
       "model_id": "5117c36e980c4f7fb7f254767567bcba",
       "version_major": 2,
       "version_minor": 0
      },
      "text/plain": [
       "PROCESSING TASKS | :   0%|          | 0/1 [00:00<?, ?it/s]"
      ]
     },
     "metadata": {},
     "output_type": "display_data"
    },
    {
     "data": {
      "application/vnd.jupyter.widget-view+json": {
       "model_id": "c528cc9edf114ad58c3be4450aa6a458",
       "version_major": 2,
       "version_minor": 0
      },
      "text/plain": [
       "COLLECTING RESULTS | :   0%|          | 0/1 [00:00<?, ?it/s]"
      ]
     },
     "metadata": {},
     "output_type": "display_data"
    }
   ],
   "source": [
    "dfe = cane.idf(dfe, n_coresJob=2,disableLoadBar = False, columns_use = [\"sales_channel_id\"]) # specific columns"
   ]
  },
  {
   "cell_type": "markdown",
   "id": "fee074a0",
   "metadata": {},
   "source": [
    " - ## client_id"
   ]
  },
  {
   "cell_type": "markdown",
   "id": "1aa1da2a",
   "metadata": {},
   "source": [
    "moved to the end"
   ]
  },
  {
   "cell_type": "markdown",
   "id": "b2e9e1cb",
   "metadata": {},
   "source": [
    " - ## route_id"
   ]
  },
  {
   "cell_type": "markdown",
   "id": "71c215e0",
   "metadata": {},
   "source": [
    "some correlation. 2103 examples with frequency lower than 1% for all of them. we use idf:"
   ]
  },
  {
   "cell_type": "code",
   "execution_count": null,
   "id": "ec486a03",
   "metadata": {},
   "outputs": [],
   "source": [
    "dfe['route_id'].describe()"
   ]
  },
  {
   "cell_type": "code",
   "execution_count": null,
   "id": "0b1bccfa",
   "metadata": {},
   "outputs": [],
   "source": [
    "dfe.groupby('route_id').size()/dfe['route_id'].max()"
   ]
  },
  {
   "cell_type": "code",
   "execution_count": 9,
   "id": "2ce7baef",
   "metadata": {},
   "outputs": [
    {
     "data": {
      "application/vnd.jupyter.widget-view+json": {
       "model_id": "df61e249e18644f1bddfcb39a96c6c6a",
       "version_major": 2,
       "version_minor": 0
      },
      "text/plain": [
       "QUEUEING TASKS | :   0%|          | 0/1 [00:00<?, ?it/s]"
      ]
     },
     "metadata": {},
     "output_type": "display_data"
    },
    {
     "data": {
      "application/vnd.jupyter.widget-view+json": {
       "model_id": "178ba1dba8264aecaefaf8fec082263b",
       "version_major": 2,
       "version_minor": 0
      },
      "text/plain": [
       "PROCESSING TASKS | :   0%|          | 0/1 [00:00<?, ?it/s]"
      ]
     },
     "metadata": {},
     "output_type": "display_data"
    },
    {
     "data": {
      "application/vnd.jupyter.widget-view+json": {
       "model_id": "9f2dfcb62d6042668ce4df465deb45f1",
       "version_major": 2,
       "version_minor": 0
      },
      "text/plain": [
       "COLLECTING RESULTS | :   0%|          | 0/1 [00:00<?, ?it/s]"
      ]
     },
     "metadata": {},
     "output_type": "display_data"
    }
   ],
   "source": [
    "dfe = cane.idf(dfe, n_coresJob=2,disableLoadBar = False, columns_use = [\"route_id\"]) # specific columns"
   ]
  },
  {
   "cell_type": "markdown",
   "id": "079e6877",
   "metadata": {},
   "source": [
    "- ## product_id"
   ]
  },
  {
   "cell_type": "markdown",
   "id": "6d02440b",
   "metadata": {},
   "source": [
    "some correlation. idf again"
   ]
  },
  {
   "cell_type": "code",
   "execution_count": null,
   "id": "6a906cad",
   "metadata": {},
   "outputs": [],
   "source": [
    "dfe['product_id'].describe()"
   ]
  },
  {
   "cell_type": "code",
   "execution_count": null,
   "id": "494718e1",
   "metadata": {},
   "outputs": [],
   "source": [
    "dfe.groupby('product_id').size()/dfe['product_id'].count()"
   ]
  },
  {
   "cell_type": "code",
   "execution_count": 11,
   "id": "3662973d",
   "metadata": {},
   "outputs": [
    {
     "data": {
      "application/vnd.jupyter.widget-view+json": {
       "model_id": "c0bf6ecd7d244ec4a19a64169654ec8d",
       "version_major": 2,
       "version_minor": 0
      },
      "text/plain": [
       "QUEUEING TASKS | :   0%|          | 0/1 [00:00<?, ?it/s]"
      ]
     },
     "metadata": {},
     "output_type": "display_data"
    },
    {
     "data": {
      "application/vnd.jupyter.widget-view+json": {
       "model_id": "9104217ac22c4bf98ddede4631306994",
       "version_major": 2,
       "version_minor": 0
      },
      "text/plain": [
       "PROCESSING TASKS | :   0%|          | 0/1 [00:00<?, ?it/s]"
      ]
     },
     "metadata": {},
     "output_type": "display_data"
    },
    {
     "data": {
      "application/vnd.jupyter.widget-view+json": {
       "model_id": "e3dec07b96d54dcfb440efe09c23e2df",
       "version_major": 2,
       "version_minor": 0
      },
      "text/plain": [
       "COLLECTING RESULTS | :   0%|          | 0/1 [00:00<?, ?it/s]"
      ]
     },
     "metadata": {},
     "output_type": "display_data"
    }
   ],
   "source": [
    "dfe = cane.idf(dfe, n_coresJob=2,disableLoadBar = False, columns_use = [\"product_id\"]) # specific columns"
   ]
  },
  {
   "cell_type": "markdown",
   "id": "530439c1",
   "metadata": {},
   "source": [
    "- ## town"
   ]
  },
  {
   "cell_type": "markdown",
   "id": "d35224e5",
   "metadata": {},
   "source": [
    "IDF"
   ]
  },
  {
   "cell_type": "code",
   "execution_count": 12,
   "id": "b48af512",
   "metadata": {},
   "outputs": [
    {
     "data": {
      "application/vnd.jupyter.widget-view+json": {
       "model_id": "519d5b00a3d54663bfab538fb0ed9452",
       "version_major": 2,
       "version_minor": 0
      },
      "text/plain": [
       "QUEUEING TASKS | :   0%|          | 0/1 [00:00<?, ?it/s]"
      ]
     },
     "metadata": {},
     "output_type": "display_data"
    },
    {
     "data": {
      "application/vnd.jupyter.widget-view+json": {
       "model_id": "95afe0c962794b6fa4ef2aae8d94521d",
       "version_major": 2,
       "version_minor": 0
      },
      "text/plain": [
       "PROCESSING TASKS | :   0%|          | 0/1 [00:00<?, ?it/s]"
      ]
     },
     "metadata": {},
     "output_type": "display_data"
    },
    {
     "data": {
      "application/vnd.jupyter.widget-view+json": {
       "model_id": "4c1b9ef913bb4a4dbab2d3955c13476d",
       "version_major": 2,
       "version_minor": 0
      },
      "text/plain": [
       "COLLECTING RESULTS | :   0%|          | 0/1 [00:00<?, ?it/s]"
      ]
     },
     "metadata": {},
     "output_type": "display_data"
    }
   ],
   "source": [
    "dfe = cane.idf(dfe, n_coresJob=2,disableLoadBar = False, columns_use = [\"town\"]) # specific columns"
   ]
  },
  {
   "cell_type": "code",
   "execution_count": null,
   "id": "eaadb330",
   "metadata": {},
   "outputs": [],
   "source": [
    "dfe.head()"
   ]
  },
  {
   "cell_type": "markdown",
   "id": "ff8bcbcc",
   "metadata": {},
   "source": [
    "- ## state"
   ]
  },
  {
   "cell_type": "markdown",
   "id": "8fe1ae1b",
   "metadata": {},
   "source": [
    "moderately small number of unique values mean we can use one hot encoding here\n",
    "- https://pbpython.com/categorical-encoding.html"
   ]
  },
  {
   "cell_type": "code",
   "execution_count": null,
   "id": "8d2d5788",
   "metadata": {},
   "outputs": [],
   "source": [
    "dfe['state'].describe()"
   ]
  },
  {
   "cell_type": "code",
   "execution_count": null,
   "id": "486ae920",
   "metadata": {},
   "outputs": [],
   "source": [
    "dfe.groupby('state').size()/dfe['state'].count()"
   ]
  },
  {
   "cell_type": "code",
   "execution_count": 13,
   "id": "68289ee9",
   "metadata": {},
   "outputs": [],
   "source": [
    "# cell by paulobarros\n",
    "dfe.loc[dfe['state'] == \"SAN LUIS POTOSÍ\", 'state'] = \"Top11-21\"\n",
    "dfe.loc[dfe['state'] == \"BAJA CALIFORNIA SUR\", 'state'] = \"Top22-32\"\n",
    "dfe.loc[dfe['state'] == \"NAYARIT\", 'state'] = \"Top22-32\"\n",
    "dfe.loc[dfe['state'] == \"COLIMA\", 'state'] = \"Top22-32\"\n",
    "dfe.loc[dfe['state'] == \"QUINTANA ROO\", 'state'] = \"Top22-32\"\n",
    "dfe.loc[dfe['state'] == \"TLAXCALA\", 'state'] = \"Top22-32\"\n",
    "dfe.loc[dfe['state'] == \"CAMPECHE\", 'state'] = \"Top22-32\"\n",
    "dfe.loc[dfe['state'] == \"Queretaro de Arteaga\", 'state'] = \"Top22-32\"\n",
    "dfe.loc[dfe['state'] == \"QUERETARO\", 'state'] = \"Top22-32\"\n",
    "dfe.loc[dfe['state'] == \"ESTADO DE MÉXICO\", 'state'] = \"Top10\"\n",
    "dfe.loc[dfe['state'] == \"MÉXICO, D.F.\", 'state'] = \"Top10\"\n",
    "dfe.loc[dfe['state'] == \"JALISCO\", 'state'] = \"Top10\"\n",
    "dfe.loc[dfe['state'] == \"PUEBLA\", 'state'] = \"Top10\"\n",
    "dfe.loc[dfe['state'] == \"VERACRUZ\", 'state'] = \"Top10\"\n",
    "dfe.loc[dfe['state'] == \"GUANAJUATO\", 'state'] = \"Top10\"\n",
    "dfe.loc[dfe['state'] == \"NUEVO LEÓN\", 'state'] = \"Top10\"\n",
    "dfe.loc[dfe['state'] == \"MICHOACÁN\", 'state'] = \"Top10\"\n",
    "dfe.loc[dfe['state'] == \"HIDALGO\", 'state'] = \"Top11-21\"\n",
    "dfe.loc[dfe['state'] == \"TAMAULIPAS\", 'state'] = \"Top11-21\"\n",
    "dfe.loc[dfe['state'] == \"CHIHUAHUA\", 'state'] = \"Top11-21\"\n",
    "dfe.loc[dfe['state'] == \"COAHUILA\", 'state'] = \"Top11-21\"\n",
    "dfe.loc[dfe['state'] == \"BAJA CALIFORNIA NORTE\", 'state'] = \"Top22-32\"\n",
    "dfe.loc[dfe['state'] == \"OAXACA\", 'state'] = \"Top10\"\n",
    "dfe.loc[dfe['state'] == \"SONORA\", 'state'] = \"Top11-21\"\n",
    "dfe.loc[dfe['state'] == \"GUERRERO\", 'state'] = \"Top11-21\"\n",
    "dfe.loc[dfe['state'] == \"SINALOA\", 'state'] = \"Top11-21\"\n",
    "dfe.loc[dfe['state'] == \"MORELOS\", 'state'] = \"Top22-32\"\n",
    "dfe.loc[dfe['state'] == \"ZACATECAS\", 'state'] = \"Top22-32\"\n",
    "dfe.loc[dfe['state'] == \"DURANGO\", 'state'] = \"Top22-32\"\n",
    "dfe.loc[dfe['state'] == \"YUCATÁN\", 'state'] = \"Top11-21\"\n",
    "dfe.loc[dfe['state'] == \"CHIAPAS\", 'state'] = \"Top10\"\n",
    "dfe.loc[dfe['state'] == \"AGUASCALIENTES\", 'state'] = \"Top22-32\"\n",
    "dfe.loc[dfe['state'] == \"TABASCO\", 'state'] = \"Top11-21\"\n",
    "dfe.loc[dfe['state'] == \"SAN LUIS POTOSÍ\", 'state'] = \"Top11-21\""
   ]
  },
  {
   "cell_type": "code",
   "execution_count": 14,
   "id": "5fae562d",
   "metadata": {},
   "outputs": [
    {
     "data": {
      "text/html": [
       "<div>\n",
       "<style scoped>\n",
       "    .dataframe tbody tr th:only-of-type {\n",
       "        vertical-align: middle;\n",
       "    }\n",
       "\n",
       "    .dataframe tbody tr th {\n",
       "        vertical-align: top;\n",
       "    }\n",
       "\n",
       "    .dataframe thead th {\n",
       "        text-align: right;\n",
       "    }\n",
       "</style>\n",
       "<table border=\"1\" class=\"dataframe\">\n",
       "  <thead>\n",
       "    <tr style=\"text-align: right;\">\n",
       "      <th></th>\n",
       "      <th>town</th>\n",
       "      <th>product_id</th>\n",
       "      <th>route_id</th>\n",
       "      <th>sales_channel_id</th>\n",
       "      <th>client_name</th>\n",
       "      <th>short_name</th>\n",
       "      <th>brand</th>\n",
       "      <th>weight</th>\n",
       "      <th>pieces</th>\n",
       "      <th>target</th>\n",
       "      <th>state_Top10</th>\n",
       "      <th>state_Top11-21</th>\n",
       "      <th>state_Top22-32</th>\n",
       "    </tr>\n",
       "  </thead>\n",
       "  <tbody>\n",
       "    <tr>\n",
       "      <th>0</th>\n",
       "      <td>5.048567</td>\n",
       "      <td>5.528601</td>\n",
       "      <td>6.266273</td>\n",
       "      <td>0.084117</td>\n",
       "      <td>MARIA GRACIELA ROCHA GUTIERREZ</td>\n",
       "      <td>Pay Pina</td>\n",
       "      <td>MLA</td>\n",
       "      <td>85.0</td>\n",
       "      <td>1.0</td>\n",
       "      <td>0.0</td>\n",
       "      <td>1</td>\n",
       "      <td>0</td>\n",
       "      <td>0</td>\n",
       "    </tr>\n",
       "    <tr>\n",
       "      <th>1</th>\n",
       "      <td>5.819874</td>\n",
       "      <td>4.046264</td>\n",
       "      <td>6.279286</td>\n",
       "      <td>0.084117</td>\n",
       "      <td>ARACELI ESTRADA PALATO</td>\n",
       "      <td>Bimbunuelos</td>\n",
       "      <td>BIM</td>\n",
       "      <td>66.0</td>\n",
       "      <td>4.0</td>\n",
       "      <td>0.0</td>\n",
       "      <td>1</td>\n",
       "      <td>0</td>\n",
       "      <td>0</td>\n",
       "    </tr>\n",
       "    <tr>\n",
       "      <th>2</th>\n",
       "      <td>5.936488</td>\n",
       "      <td>3.999277</td>\n",
       "      <td>5.322155</td>\n",
       "      <td>0.084117</td>\n",
       "      <td>EULOGIA</td>\n",
       "      <td>Nito</td>\n",
       "      <td>BIM</td>\n",
       "      <td>62.0</td>\n",
       "      <td>1.0</td>\n",
       "      <td>1.0</td>\n",
       "      <td>0</td>\n",
       "      <td>1</td>\n",
       "      <td>0</td>\n",
       "    </tr>\n",
       "    <tr>\n",
       "      <th>3</th>\n",
       "      <td>5.381851</td>\n",
       "      <td>7.007199</td>\n",
       "      <td>6.236371</td>\n",
       "      <td>0.084117</td>\n",
       "      <td>ENCINO 2</td>\n",
       "      <td>Tostada Ondulada Tubo</td>\n",
       "      <td>MR</td>\n",
       "      <td>360.0</td>\n",
       "      <td>30.0</td>\n",
       "      <td>0.0</td>\n",
       "      <td>0</td>\n",
       "      <td>1</td>\n",
       "      <td>0</td>\n",
       "    </tr>\n",
       "    <tr>\n",
       "      <th>4</th>\n",
       "      <td>4.610699</td>\n",
       "      <td>3.905971</td>\n",
       "      <td>6.392524</td>\n",
       "      <td>0.084117</td>\n",
       "      <td>LAS FLORES</td>\n",
       "      <td>Pan Integral</td>\n",
       "      <td>BIM</td>\n",
       "      <td>675.0</td>\n",
       "      <td>unknown</td>\n",
       "      <td>0.0</td>\n",
       "      <td>1</td>\n",
       "      <td>0</td>\n",
       "      <td>0</td>\n",
       "    </tr>\n",
       "  </tbody>\n",
       "</table>\n",
       "</div>"
      ],
      "text/plain": [
       "       town  product_id  route_id  sales_channel_id  \\\n",
       "0  5.048567    5.528601  6.266273          0.084117   \n",
       "1  5.819874    4.046264  6.279286          0.084117   \n",
       "2  5.936488    3.999277  5.322155          0.084117   \n",
       "3  5.381851    7.007199  6.236371          0.084117   \n",
       "4  4.610699    3.905971  6.392524          0.084117   \n",
       "\n",
       "                      client_name              short_name brand  weight  \\\n",
       "0  MARIA GRACIELA ROCHA GUTIERREZ               Pay Pina    MLA    85.0   \n",
       "1          ARACELI ESTRADA PALATO            Bimbunuelos    BIM    66.0   \n",
       "2                         EULOGIA                   Nito    BIM    62.0   \n",
       "3                        ENCINO 2  Tostada Ondulada Tubo     MR   360.0   \n",
       "4                      LAS FLORES           Pan Integral    BIM   675.0   \n",
       "\n",
       "    pieces  target  state_Top10  state_Top11-21  state_Top22-32  \n",
       "0      1.0     0.0            1               0               0  \n",
       "1      4.0     0.0            1               0               0  \n",
       "2      1.0     1.0            0               1               0  \n",
       "3     30.0     0.0            0               1               0  \n",
       "4  unknown     0.0            1               0               0  "
      ]
     },
     "execution_count": 14,
     "metadata": {},
     "output_type": "execute_result"
    }
   ],
   "source": [
    "# one hot encoding\n",
    "dfe = pd.get_dummies(dfe, columns=[\"state\"])\n",
    "dfe.head()"
   ]
  },
  {
   "cell_type": "markdown",
   "id": "0d3950ac",
   "metadata": {},
   "source": [
    "- ## client_name"
   ]
  },
  {
   "cell_type": "code",
   "execution_count": null,
   "id": "4de63d9b",
   "metadata": {},
   "outputs": [],
   "source": [
    "dfe['client_name'].describe()"
   ]
  },
  {
   "cell_type": "code",
   "execution_count": null,
   "id": "76a6884a",
   "metadata": {},
   "outputs": [],
   "source": [
    "dfe.groupby('client_name').size()/dfe['client_name'].count()"
   ]
  },
  {
   "cell_type": "markdown",
   "id": "d3d3baef",
   "metadata": {},
   "source": [
    "treatment by paulobaros"
   ]
  },
  {
   "cell_type": "code",
   "execution_count": 15,
   "id": "f868a653",
   "metadata": {},
   "outputs": [],
   "source": [
    "dfe[\"client_name\"] = dfe[\"client_name\"].str.upper() "
   ]
  },
  {
   "cell_type": "code",
   "execution_count": 16,
   "id": "0793a59c",
   "metadata": {},
   "outputs": [],
   "source": [
    "# Let's also generate a list of individual word frequency across all names\n",
    "def tfidf_score_list(vf2, list_len):\n",
    "    from sklearn.feature_extraction.text import TfidfVectorizer\n",
    "    v = TfidfVectorizer()\n",
    "\n",
    "    vf2['New'] = 'na'\n",
    "    a = \" \".join(vf2['client_name'])\n",
    "    vf2['New'][0] = a\n",
    "\n",
    "    tfidf = v.fit_transform(vf2['New'])\n",
    "\n",
    "    feature_names = v.get_feature_names()\n",
    "\n",
    "    freq = []\n",
    "    doc = 0\n",
    "    feature_index = tfidf[doc,:].nonzero()[1]\n",
    "    tfidf_scores = zip(feature_index, [tfidf[doc, x] for x in feature_index])\n",
    "    for w, s in [(feature_names[i], s) for (i, s) in tfidf_scores]:\n",
    "            freq.append((w.encode('utf-8'),s))\n",
    "    \n",
    "    del vf2['New']\n",
    "    \n",
    "    import numpy as np\n",
    "    names = ['word','score']\n",
    "    formats = ['S50','f8']\n",
    "    dtype = dict(names = names, formats=formats)\n",
    "    array = np.array(freq, dtype=dtype)\n",
    "\n",
    "    b = np.sort(array, order='score')\n",
    "    \n",
    "    if list_len > len(b)+1:\n",
    "        list_len = len(b)+1\n",
    "    for i in range(1,list_len):\n",
    "        print(b[-i])"
   ]
  },
  {
   "cell_type": "code",
   "execution_count": 17,
   "id": "2e68aa5e",
   "metadata": {},
   "outputs": [
    {
     "name": "stderr",
     "output_type": "stream",
     "text": [
      "C:\\Users\\onuno\\AppData\\Local\\Temp\\ipykernel_5384\\3120655420.py:8: SettingWithCopyWarning: \n",
      "A value is trying to be set on a copy of a slice from a DataFrame\n",
      "\n",
      "See the caveats in the documentation: https://pandas.pydata.org/pandas-docs/stable/user_guide/indexing.html#returning-a-view-versus-a-copy\n",
      "  vf2['New'][0] = a\n",
      "E:\\Programas\\Anaconda\\lib\\site-packages\\sklearn\\utils\\deprecation.py:87: FutureWarning: Function get_feature_names is deprecated; get_feature_names is deprecated in 1.0 and will be removed in 1.2. Please use get_feature_names_out instead.\n",
      "  warnings.warn(msg, category=FutureWarning)\n"
     ]
    },
    {
     "name": "stdout",
     "output_type": "stream",
     "text": [
      "(b'no', 0.62882986)\n",
      "(b'identificado', 0.62437851)\n",
      "(b'la', 0.29985552)\n",
      "(b'el', 0.15864173)\n",
      "(b'abarrotes', 0.15351015)\n",
      "(b'de', 0.10475078)\n",
      "(b'super', 0.10274375)\n",
      "(b'oxxo', 0.09566867)\n",
      "(b'maria', 0.07325491)\n",
      "(b'los', 0.05362932)\n",
      "(b'san', 0.0516036)\n",
      "(b'miscelanea', 0.05129712)\n",
      "(b'del', 0.04129559)\n",
      "(b'mini', 0.03934461)\n",
      "(b'jose', 0.037659)\n",
      "(b'garcia', 0.03680312)\n",
      "(b'lupita', 0.03488204)\n",
      "(b'hernandez', 0.03441112)\n",
      "(b'gonzalez', 0.0319967)\n",
      "(b'martinez', 0.03009058)\n",
      "(b'lopez', 0.02846103)\n",
      "(b'las', 0.02668572)\n",
      "(b'don', 0.02615499)\n",
      "(b'rodriguez', 0.02579619)\n",
      "(b'casa', 0.0232248)\n",
      "(b'juan', 0.0222082)\n",
      "(b'mary', 0.02128877)\n",
      "(b'ramirez', 0.0208926)\n",
      "(b'jesus', 0.02020116)\n",
      "(b'guadalupe', 0.02010025)\n",
      "(b'farmacia', 0.01958074)\n",
      "(b'hermanos', 0.01952468)\n",
      "(b'sanchez', 0.01927053)\n",
      "(b'perez', 0.01883324)\n",
      "(b'ii', 0.01845575)\n",
      "(b'mi', 0.01841464)\n",
      "(b'cremeria', 0.01782412)\n",
      "(b'flores', 0.01690095)\n",
      "(b'cruz', 0.01633659)\n",
      "(b'luis', 0.01551808)\n",
      "(b'torres', 0.01517423)\n",
      "(b'tienda', 0.01386237)\n",
      "(b'rosa', 0.01367176)\n",
      "(b'carmen', 0.01355216)\n",
      "(b'abts', 0.01349236)\n",
      "(b'eleven', 0.0133765)\n",
      "(b'gomez', 0.01267758)\n",
      "(b'diconsa', 0.01251313)\n",
      "(b'santa', 0.01233747)\n",
      "(b'esperanza', 0.01222161)\n",
      "(b'francisco', 0.0121207)\n",
      "(b'antonio', 0.0120908)\n",
      "(b'pasadita', 0.01203474)\n",
      "(b'angel', 0.01182544)\n",
      "(b'reyes', 0.01173574)\n",
      "(b'gutierrez', 0.01162735)\n",
      "(b'misc', 0.01151149)\n",
      "(b'fruteria', 0.01130966)\n",
      "(b'express', 0.01130966)\n",
      "(b'ventanita', 0.01123865)\n",
      "(b'martha', 0.01107794)\n",
      "(b'luz', 0.01094339)\n",
      "(b'vazquez', 0.01089106)\n",
      "(b'miguel', 0.01089106)\n",
      "(b'tiendita', 0.01086864)\n",
      "(b'ana', 0.01071914)\n",
      "(b'centro', 0.01045004)\n",
      "(b'ma', 0.01040145)\n",
      "(b'diaz', 0.0101174)\n",
      "(b'nueva', 0.00984083)\n",
      "(b'carniceria', 0.00974365)\n",
      "(b'jimenez', 0.00967264)\n",
      "(b'gdl', 0.00960536)\n",
      "(b'manuel', 0.00944465)\n",
      "(b'guadalupana', 0.00939233)\n",
      "(b'angeles', 0.00935121)\n",
      "(b'estrella', 0.00931758)\n",
      "(b'gloria', 0.00914939)\n",
      "(b'alex', 0.00905969)\n",
      "(b'martin', 0.00900363)\n",
      "(b'elena', 0.00882796)\n",
      "(b'ruiz', 0.00880928)\n",
      "(b'minisuper', 0.00873826)\n",
      "(b'morales', 0.00846169)\n",
      "(b'chavez', 0.00840189)\n",
      "(b'carlos', 0.00831219)\n",
      "(b'gaby', 0.00800572)\n",
      "(b'teresa', 0.0079945)\n",
      "(b'providencia', 0.00791975)\n",
      "(b'papeleria', 0.00784127)\n",
      "(b'luna', 0.00771045)\n",
      "(b'mendoza', 0.00768803)\n",
      "(b'dany', 0.00763197)\n",
      "(b'paty', 0.00758712)\n",
      "(b'isabel', 0.00758712)\n",
      "(b'comercial', 0.00757964)\n",
      "(b'sol', 0.00752732)\n",
      "(b'alvarez', 0.00743388)\n",
      "(b'juarez', 0.00741893)\n",
      "(b'aguilar', 0.00738903)\n",
      "(b'rosy', 0.00737408)\n",
      "(b'margarita', 0.00723953)\n",
      "(b'castillo', 0.00722832)\n",
      "(b'chiquita', 0.00719842)\n",
      "(b'moreno', 0.00716478)\n",
      "(b'do\\xc3\\xb1a', 0.00714983)\n",
      "(b'pedro', 0.00710124)\n",
      "(b'alicia', 0.0070975)\n",
      "(b'mercado', 0.00709377)\n",
      "(b'rivera', 0.00706387)\n",
      "(b'ortiz', 0.00673497)\n",
      "(b'puesto', 0.00666395)\n",
      "(b'flor', 0.00660415)\n",
      "(b'juana', 0.00645092)\n",
      "(b'guadalajara', 0.00644718)\n",
      "(b'guzman', 0.00640233)\n",
      "(b'diana', 0.00630515)\n",
      "(b'rosita', 0.00624535)\n",
      "(b'fe', 0.00623414)\n",
      "(b'deposito', 0.00620424)\n",
      "(b'medina', 0.0061706)\n",
      "(b'leon', 0.00616687)\n",
      "(b'esquina', 0.00615192)\n",
      "(b'ramos', 0.00610707)\n",
      "(b'javier', 0.00608091)\n",
      "(b'jorge', 0.00603232)\n",
      "(b'valle', 0.00593514)\n",
      "(b'bodega', 0.00590898)\n",
      "(b'reyna', 0.00587908)\n",
      "(b'laura', 0.00586039)\n",
      "(b'ab', 0.00584544)\n",
      "(b'guerrero', 0.00577069)\n",
      "(b'rosario', 0.00567352)\n",
      "(b'vargas', 0.00565483)\n",
      "(b'villa', 0.00562119)\n",
      "(b'victoria', 0.00552028)\n",
      "(b'escondida', 0.00552028)\n",
      "(b'silvia', 0.00549038)\n",
      "(b'romero', 0.00547917)\n",
      "(b'vinos', 0.00546422)\n",
      "(b'blanca', 0.00546048)\n",
      "(b'angelica', 0.00523623)\n",
      "(b'esmeralda', 0.00522876)\n",
      "(b'extra', 0.00521381)\n",
      "(b'lety', 0.00515401)\n",
      "(b'claudia', 0.00514653)\n",
      "(b'lucy', 0.00512784)\n",
      "(b'cv', 0.00508673)\n",
      "(b'rocio', 0.00497834)\n",
      "(b'comodin', 0.00489238)\n",
      "(b'juquilita', 0.00488491)\n",
      "(b'sa', 0.00487743)\n",
      "(b'rio', 0.00486248)\n",
      "(b'castro', 0.00480642)\n",
      "(b'carnes', 0.00469056)\n",
      "(b'anita', 0.00466439)\n",
      "(b'ag', 0.00465318)\n",
      "(b'tere', 0.00464944)\n",
      "(b'tres', 0.00463076)\n",
      "(b'plaza', 0.00461581)\n",
      "(b'herrera', 0.00460833)\n",
      "(b'licores', 0.00459712)\n",
      "(b'cafeteria', 0.00458964)\n",
      "(b'mendez', 0.00456722)\n",
      "(b'estrada', 0.00454106)\n",
      "(b'irma', 0.00453732)\n",
      "(b'salvador', 0.00453358)\n",
      "(b'leticia', 0.00449994)\n",
      "(b'navarro', 0.00446257)\n",
      "(b'juanita', 0.00445509)\n",
      "(b'karen', 0.00442519)\n",
      "(b'rafael', 0.00441772)\n",
      "(b'guero', 0.00441398)\n",
      "(b'nuevo', 0.00435792)\n",
      "(b'dulces', 0.00435418)\n",
      "(b'yolanda', 0.00432428)\n",
      "(b'alejandra', 0.00432054)\n",
      "(b'contreras', 0.00431681)\n",
      "(b'sandoval', 0.00431307)\n",
      "(b'espinoza', 0.00430186)\n",
      "(b'conasupo', 0.00428317)\n",
      "(b'ramon', 0.00427196)\n",
      "(b'patricia', 0.00425327)\n",
      "(b'carmelita', 0.00425327)\n",
      "(b'bae', 0.00421589)\n",
      "(b'carrillo', 0.00415983)\n",
      "(b'velazquez', 0.00414488)\n",
      "(b'vero', 0.00410377)\n",
      "(b'veronica', 0.00407761)\n",
      "(b'local', 0.00407013)\n",
      "(b'lara', 0.00406266)\n",
      "(b'dos', 0.00406266)\n",
      "(b'marquez', 0.00402528)\n",
      "(b'socorro', 0.00399538)\n",
      "(b'leo', 0.0039767)\n",
      "(b'ibarra', 0.0039767)\n",
      "(b'alberto', 0.0039767)\n",
      "(b'padilla', 0.00397296)\n",
      "(b'conchita', 0.00396922)\n"
     ]
    }
   ],
   "source": [
    "tfidf_score_list(dfe, 200)"
   ]
  },
  {
   "cell_type": "code",
   "execution_count": 18,
   "id": "9451654d",
   "metadata": {},
   "outputs": [
    {
     "name": "stdout",
     "output_type": "stream",
     "text": [
      "            town  product_id   route_id  sales_channel_id  \\\n",
      "287     4.996077    3.905971   7.509804          4.382394   \n",
      "1023    4.610699    6.271345   8.921766          4.768273   \n",
      "1092    4.859119    6.963363   6.083858          0.084117   \n",
      "1327    5.126187    9.818254   8.929798          5.575095   \n",
      "2445    4.610699    6.255650  10.859708          4.768273   \n",
      "...          ...         ...        ...               ...   \n",
      "932071  4.996077    3.664771  10.572026          5.575095   \n",
      "932248  5.843533    5.067711   6.775601          0.084117   \n",
      "933273  5.163547    4.838280   7.060481          0.084117   \n",
      "934806  6.781230    7.207608   5.318445          0.084117   \n",
      "934959  4.524851    4.838280   8.312001          0.084117   \n",
      "\n",
      "                                              client_name  \\\n",
      "287                                     PLAUCHU CAFETERIA   \n",
      "1023                              CAFETERIA RADIO FORMULA   \n",
      "1092                            SDN CAFETERIA TRANSPORTES   \n",
      "1327                                      CCH CAFETERIA 4   \n",
      "2445                                          RODMAN CAFE   \n",
      "...                                                   ...   \n",
      "932071                                  CAFETERIA CHELITA   \n",
      "932248                                    CAFE LOS JARROS   \n",
      "933273                                 CAFETERIA SANTA FE   \n",
      "934806                                 BARAJAD CAFETALERA   \n",
      "934959  SDN CAFETERIA DEL 1ER BATALLON DE TRANSMISIONE...   \n",
      "\n",
      "                               short_name brand  weight   pieces  target  \\\n",
      "287                         Pan Integral    BIM   675.0  unknown     0.0   \n",
      "1023                            Principe    MLA   106.0     10.0     1.0   \n",
      "1092               Polvoroncitos Caseros     TR   130.0      8.0     1.0   \n",
      "1327    Big Muffin Vainilla Chispas Choc     DH   130.0  unknown     1.0   \n",
      "2445                              Wonder    WON   567.0  unknown     0.0   \n",
      "...                                   ...   ...     ...      ...     ...   \n",
      "932071                      Donas Azucar    BIM   105.0      4.0     0.0   \n",
      "932248                         Canelitas    MLA    90.0  unknown     0.0   \n",
      "933273               Submarinos Vainilla    MLA   105.0      3.0     0.0   \n",
      "934806                     Medias Noches    BIM   340.0      8.0     1.0   \n",
      "934959               Submarinos Vainilla    MLA   105.0      3.0     0.0   \n",
      "\n",
      "        state_Top10  state_Top11-21  state_Top22-32  \n",
      "287               0               0               1  \n",
      "1023              1               0               0  \n",
      "1092              1               0               0  \n",
      "1327              1               0               0  \n",
      "2445              1               0               0  \n",
      "...             ...             ...             ...  \n",
      "932071            1               0               0  \n",
      "932248            0               1               0  \n",
      "933273            1               0               0  \n",
      "934806            0               0               1  \n",
      "934959            1               0               0  \n",
      "\n",
      "[1663 rows x 13 columns]\n"
     ]
    }
   ],
   "source": [
    "print(dfe[dfe['client_name'].str.contains('.*CAFE.*')])"
   ]
  },
  {
   "cell_type": "code",
   "execution_count": 19,
   "id": "c2934f99",
   "metadata": {},
   "outputs": [],
   "source": [
    "# --- Begin Filtering for specific terms\n",
    "\n",
    "# Note that the order of filtering is significant.\n",
    "# For example: \n",
    "# The regex of .*ERIA.* will assign \"FRUITERIA\" to 'Eatery' rather than 'Fresh Market'.\n",
    "# In other words, the first filters to occur have a bigger priority.\n",
    "\n",
    "def filter_specific(vf2):\n",
    "    \n",
    "    # Known Large Company / Special Group Types\n",
    "    vf2['client_name'] = vf2['client_name'].str.replace('.*REMISION.*','Consignment')\n",
    "    vf2['client_name'] = vf2['client_name'].replace(['.*WAL MART.*','.*SAMS CLUB.*'],'Walmart', regex=True)\n",
    "    vf2['client_name'] = vf2['client_name'].str.replace('.*OXXO.*','Oxxo Store')\n",
    "    vf2['client_name'] = vf2['client_name'].str.replace('.*CONASUPO.*','Govt Store')\n",
    "    vf2['client_name'] = vf2['client_name'].str.replace('.*BIMBO.*','Bimbo Store')\n",
    "\n",
    "    \n",
    "\n",
    "    # General term search for a random assortment of words I picked from looking at\n",
    "    # their frequency of appearance in the data and common spanish words for these categories\n",
    "    vf2['client_name'] = vf2['client_name'].replace(['.*COLEG.*','.*UNIV.*','.*ESCU.*','.*INSTI.*',\\\n",
    "                                                        '.*PREPAR.*'],'School', regex=True)\n",
    "    vf2['client_name'] = vf2['client_name'].str.replace('.*PUESTO.*','Post')\n",
    "    vf2['client_name'] = vf2['client_name'].replace(['.*FARMA.*','.*HOSPITAL.*','.*CLINI.*'],'Hospital/Pharmacy', regex=True)\n",
    "    vf2['client_name'] = vf2['client_name'].replace(['.*CAFE.*','.*CREMERIA.*','.*DULCERIA.*',\\\n",
    "                                                        '.*REST.*','.*BURGER.*','.*TACO.*', '.*TORTA.*',\\\n",
    "                                                        '.*TAQUER.*','.*HOT DOG.*',\\\n",
    "                                                        '.*COMEDOR.*', '.*ERIA.*','.*BURGU.*'],'Eatery', regex=True)\n",
    "    vf2['client_name'] = vf2['client_name'].str.replace('.*SUPER.*','Supermarket')\n",
    "    vf2['client_name'] = vf2['client_name'].replace(['.*COMERCIAL.*','.*BODEGA.*','.*DEPOSITO.*',\\\n",
    "                                                            '.*ABARROTES.*','.*MERCADO.*','.*CAMBIO.*',\\\n",
    "                                                        '.*MARKET.*','.*MART .*','.*MINI .*',\\\n",
    "                                                        '.*PLAZA.*','.*MISC.*','.*ELEVEN.*','.*EXP.*',\\\n",
    "                                                         '.*SNACK.*', '.*PAPELERIA.*', '.*CARNICERIA.*',\\\n",
    "                                                         '.*LOCAL.*','.*COMODIN.*','.*PROVIDENCIA.*'\n",
    "                                                        ],'General Market/Mart'\\\n",
    "                                                       , regex=True)\n",
    "\n",
    "    vf2['client_name'] = vf2['client_name'].replace(['.*VERDU.*','.*FRUT.*'],'Fresh Market', regex=True)\n",
    "    vf2['client_name'] = vf2['client_name'].replace(['.*HOTEL.*','.*MOTEL.*'],'Hotel', regex=True)"
   ]
  },
  {
   "cell_type": "code",
   "execution_count": 20,
   "id": "4a5e6f04",
   "metadata": {},
   "outputs": [
    {
     "name": "stderr",
     "output_type": "stream",
     "text": [
      "C:\\Users\\onuno\\AppData\\Local\\Temp\\ipykernel_5384\\1636996382.py:11: FutureWarning: The default value of regex will change from True to False in a future version.\n",
      "  vf2['client_name'] = vf2['client_name'].str.replace('.*REMISION.*','Consignment')\n",
      "C:\\Users\\onuno\\AppData\\Local\\Temp\\ipykernel_5384\\1636996382.py:13: FutureWarning: The default value of regex will change from True to False in a future version.\n",
      "  vf2['client_name'] = vf2['client_name'].str.replace('.*OXXO.*','Oxxo Store')\n",
      "C:\\Users\\onuno\\AppData\\Local\\Temp\\ipykernel_5384\\1636996382.py:14: FutureWarning: The default value of regex will change from True to False in a future version.\n",
      "  vf2['client_name'] = vf2['client_name'].str.replace('.*CONASUPO.*','Govt Store')\n",
      "C:\\Users\\onuno\\AppData\\Local\\Temp\\ipykernel_5384\\1636996382.py:15: FutureWarning: The default value of regex will change from True to False in a future version.\n",
      "  vf2['client_name'] = vf2['client_name'].str.replace('.*BIMBO.*','Bimbo Store')\n",
      "C:\\Users\\onuno\\AppData\\Local\\Temp\\ipykernel_5384\\1636996382.py:23: FutureWarning: The default value of regex will change from True to False in a future version.\n",
      "  vf2['client_name'] = vf2['client_name'].str.replace('.*PUESTO.*','Post')\n",
      "C:\\Users\\onuno\\AppData\\Local\\Temp\\ipykernel_5384\\1636996382.py:29: FutureWarning: The default value of regex will change from True to False in a future version.\n",
      "  vf2['client_name'] = vf2['client_name'].str.replace('.*SUPER.*','Supermarket')\n"
     ]
    }
   ],
   "source": [
    "filter_specific(dfe)"
   ]
  },
  {
   "cell_type": "code",
   "execution_count": 21,
   "id": "8efb569f",
   "metadata": {},
   "outputs": [],
   "source": [
    "# --- Begin filtering for more general terms\n",
    "# The idea here is to look for names with particles of speech that would\n",
    "# not appear in a person's name.\n",
    "# i.e. \"Individuals\" should not contain any participles or numbers in their names.\n",
    "def filter_participle(vf2):\n",
    "    vf2['client_name'] = vf2['client_name'].replace([\n",
    "            '.*LA .*','.*EL .*','.*DE .*','.*LOS .*','.*DEL .*','.*Y .*', '.*SAN .*', '.*SANTA .*',\\\n",
    "            '.*AG .*','.*LAS .*','.*MI .*','.*MA .*', '.*II.*', '.*[0-9]+.*'\\\n",
    "    ],'Small Franchise', regex=True)"
   ]
  },
  {
   "cell_type": "code",
   "execution_count": 22,
   "id": "92a63009",
   "metadata": {},
   "outputs": [],
   "source": [
    "filter_participle(dfe)"
   ]
  },
  {
   "cell_type": "code",
   "execution_count": 23,
   "id": "f62ff3ed",
   "metadata": {},
   "outputs": [],
   "source": [
    "# Any remaining entries should be \"Individual\" Named Clients, there are some outliers.\n",
    "# More specific filters could be used in order to reduce the percentage of outliers in this final set.\n",
    "def filter_remaining(vf2):\n",
    "    def function_word(data):\n",
    "        # Avoid the single-words created so far by checking for upper-case\n",
    "        if (data.isupper()) and (data != \"NO IDENTIFICADO\"): \n",
    "            return 'Individual'\n",
    "        else:\n",
    "            return data\n",
    "    vf2['client_name'] = vf2['client_name'].map(function_word)"
   ]
  },
  {
   "cell_type": "code",
   "execution_count": 24,
   "id": "5f76adfc",
   "metadata": {},
   "outputs": [],
   "source": [
    "filter_remaining(dfe)"
   ]
  },
  {
   "cell_type": "code",
   "execution_count": 25,
   "id": "659f8dea",
   "metadata": {},
   "outputs": [
    {
     "data": {
      "text/plain": [
       "Individual             403229\n",
       "Small Franchise        197375\n",
       "NO IDENTIFICADO        167058\n",
       "General Market/Mart     74169\n",
       "Supermarket             30244\n",
       "Oxxo Store              25660\n",
       "Eatery                  23982\n",
       "Hospital/Pharmacy        6462\n",
       "School                   3290\n",
       "Post                     1776\n",
       "Fresh Market             1247\n",
       "Govt Store               1153\n",
       "Walmart                   283\n",
       "Hotel                     283\n",
       "Consignment               238\n",
       "Bimbo Store               215\n",
       "Name: client_name, dtype: int64"
      ]
     },
     "execution_count": 25,
     "metadata": {},
     "output_type": "execute_result"
    }
   ],
   "source": [
    "dfe['client_name'].value_counts()"
   ]
  },
  {
   "cell_type": "code",
   "execution_count": 26,
   "id": "c1a8b355",
   "metadata": {},
   "outputs": [],
   "source": [
    "dfe = pd.get_dummies(dfe, columns=[\"client_name\"])"
   ]
  },
  {
   "cell_type": "markdown",
   "id": "70c211a4",
   "metadata": {},
   "source": [
    "- ## short_name"
   ]
  },
  {
   "cell_type": "markdown",
   "id": "4f5654d6",
   "metadata": {},
   "source": [
    "IDF"
   ]
  },
  {
   "cell_type": "code",
   "execution_count": null,
   "id": "4587826c",
   "metadata": {},
   "outputs": [],
   "source": [
    "dfe['short_name'].describe()"
   ]
  },
  {
   "cell_type": "code",
   "execution_count": null,
   "id": "92a61434",
   "metadata": {},
   "outputs": [],
   "source": [
    "dfe.groupby('short_name').size()/dfe['short_name'].count()"
   ]
  },
  {
   "cell_type": "code",
   "execution_count": null,
   "id": "649ef859",
   "metadata": {},
   "outputs": [],
   "source": [
    "dfe['short_name'].isna().sum()"
   ]
  },
  {
   "cell_type": "code",
   "execution_count": null,
   "id": "168ab5c4",
   "metadata": {},
   "outputs": [],
   "source": [
    "dfe[dfe['short_name'].isna()]"
   ]
  },
  {
   "cell_type": "code",
   "execution_count": 27,
   "id": "0a56c502",
   "metadata": {},
   "outputs": [
    {
     "data": {
      "application/vnd.jupyter.widget-view+json": {
       "model_id": "c33924ed0a4c42a7a0748513151f59ec",
       "version_major": 2,
       "version_minor": 0
      },
      "text/plain": [
       "QUEUEING TASKS | :   0%|          | 0/1 [00:00<?, ?it/s]"
      ]
     },
     "metadata": {},
     "output_type": "display_data"
    },
    {
     "data": {
      "application/vnd.jupyter.widget-view+json": {
       "model_id": "5042a273861d4bf9911d00b06fec4dd7",
       "version_major": 2,
       "version_minor": 0
      },
      "text/plain": [
       "PROCESSING TASKS | :   0%|          | 0/1 [00:00<?, ?it/s]"
      ]
     },
     "metadata": {},
     "output_type": "display_data"
    },
    {
     "data": {
      "application/vnd.jupyter.widget-view+json": {
       "model_id": "f0b07477ebe0427daa048160c7904fb3",
       "version_major": 2,
       "version_minor": 0
      },
      "text/plain": [
       "COLLECTING RESULTS | :   0%|          | 0/1 [00:00<?, ?it/s]"
      ]
     },
     "metadata": {},
     "output_type": "display_data"
    }
   ],
   "source": [
    "dfe = cane.idf(dfe, n_coresJob=2,disableLoadBar = False, columns_use = [\"short_name\"]) # specific columns"
   ]
  },
  {
   "cell_type": "code",
   "execution_count": null,
   "id": "52bc0c8d",
   "metadata": {},
   "outputs": [],
   "source": [
    "dfe"
   ]
  },
  {
   "cell_type": "markdown",
   "id": "03eef17a",
   "metadata": {},
   "source": [
    "- ## brand"
   ]
  },
  {
   "cell_type": "markdown",
   "id": "958dacd5",
   "metadata": {},
   "source": [
    "moderately small number of unique values mean we can use one hot encoding here"
   ]
  },
  {
   "cell_type": "code",
   "execution_count": null,
   "id": "a1c27792",
   "metadata": {},
   "outputs": [],
   "source": [
    "dfe['brand'].describe()"
   ]
  },
  {
   "cell_type": "code",
   "execution_count": null,
   "id": "e386ed5c",
   "metadata": {},
   "outputs": [],
   "source": [
    "dfe.groupby('brand').size()/dfe['brand'].count()"
   ]
  },
  {
   "cell_type": "code",
   "execution_count": 28,
   "id": "24b13558",
   "metadata": {},
   "outputs": [
    {
     "data": {
      "text/html": [
       "<div>\n",
       "<style scoped>\n",
       "    .dataframe tbody tr th:only-of-type {\n",
       "        vertical-align: middle;\n",
       "    }\n",
       "\n",
       "    .dataframe tbody tr th {\n",
       "        vertical-align: top;\n",
       "    }\n",
       "\n",
       "    .dataframe thead th {\n",
       "        text-align: right;\n",
       "    }\n",
       "</style>\n",
       "<table border=\"1\" class=\"dataframe\">\n",
       "  <thead>\n",
       "    <tr style=\"text-align: right;\">\n",
       "      <th></th>\n",
       "      <th>short_name</th>\n",
       "      <th>town</th>\n",
       "      <th>product_id</th>\n",
       "      <th>route_id</th>\n",
       "      <th>sales_channel_id</th>\n",
       "      <th>weight</th>\n",
       "      <th>pieces</th>\n",
       "      <th>target</th>\n",
       "      <th>state_Top10</th>\n",
       "      <th>state_Top11-21</th>\n",
       "      <th>...</th>\n",
       "      <th>brand_PUL</th>\n",
       "      <th>brand_RIC</th>\n",
       "      <th>brand_SAN</th>\n",
       "      <th>brand_SL</th>\n",
       "      <th>brand_SUA</th>\n",
       "      <th>brand_SUN</th>\n",
       "      <th>brand_THO</th>\n",
       "      <th>brand_TR</th>\n",
       "      <th>brand_TRI</th>\n",
       "      <th>brand_WON</th>\n",
       "    </tr>\n",
       "  </thead>\n",
       "  <tbody>\n",
       "    <tr>\n",
       "      <th>0</th>\n",
       "      <td>5.445338</td>\n",
       "      <td>5.048567</td>\n",
       "      <td>5.528601</td>\n",
       "      <td>6.266273</td>\n",
       "      <td>0.084117</td>\n",
       "      <td>85.0</td>\n",
       "      <td>1.0</td>\n",
       "      <td>0.0</td>\n",
       "      <td>1</td>\n",
       "      <td>0</td>\n",
       "      <td>...</td>\n",
       "      <td>0</td>\n",
       "      <td>0</td>\n",
       "      <td>0</td>\n",
       "      <td>0</td>\n",
       "      <td>0</td>\n",
       "      <td>0</td>\n",
       "      <td>0</td>\n",
       "      <td>0</td>\n",
       "      <td>0</td>\n",
       "      <td>0</td>\n",
       "    </tr>\n",
       "    <tr>\n",
       "      <th>1</th>\n",
       "      <td>3.902528</td>\n",
       "      <td>5.819874</td>\n",
       "      <td>4.046264</td>\n",
       "      <td>6.279286</td>\n",
       "      <td>0.084117</td>\n",
       "      <td>66.0</td>\n",
       "      <td>4.0</td>\n",
       "      <td>0.0</td>\n",
       "      <td>1</td>\n",
       "      <td>0</td>\n",
       "      <td>...</td>\n",
       "      <td>0</td>\n",
       "      <td>0</td>\n",
       "      <td>0</td>\n",
       "      <td>0</td>\n",
       "      <td>0</td>\n",
       "      <td>0</td>\n",
       "      <td>0</td>\n",
       "      <td>0</td>\n",
       "      <td>0</td>\n",
       "      <td>0</td>\n",
       "    </tr>\n",
       "    <tr>\n",
       "      <th>2</th>\n",
       "      <td>3.279632</td>\n",
       "      <td>5.936488</td>\n",
       "      <td>3.999277</td>\n",
       "      <td>5.322155</td>\n",
       "      <td>0.084117</td>\n",
       "      <td>62.0</td>\n",
       "      <td>1.0</td>\n",
       "      <td>1.0</td>\n",
       "      <td>0</td>\n",
       "      <td>1</td>\n",
       "      <td>...</td>\n",
       "      <td>0</td>\n",
       "      <td>0</td>\n",
       "      <td>0</td>\n",
       "      <td>0</td>\n",
       "      <td>0</td>\n",
       "      <td>0</td>\n",
       "      <td>0</td>\n",
       "      <td>0</td>\n",
       "      <td>0</td>\n",
       "      <td>0</td>\n",
       "    </tr>\n",
       "    <tr>\n",
       "      <th>3</th>\n",
       "      <td>5.048235</td>\n",
       "      <td>5.381851</td>\n",
       "      <td>7.007199</td>\n",
       "      <td>6.236371</td>\n",
       "      <td>0.084117</td>\n",
       "      <td>360.0</td>\n",
       "      <td>30.0</td>\n",
       "      <td>0.0</td>\n",
       "      <td>0</td>\n",
       "      <td>1</td>\n",
       "      <td>...</td>\n",
       "      <td>0</td>\n",
       "      <td>0</td>\n",
       "      <td>0</td>\n",
       "      <td>0</td>\n",
       "      <td>0</td>\n",
       "      <td>0</td>\n",
       "      <td>0</td>\n",
       "      <td>0</td>\n",
       "      <td>0</td>\n",
       "      <td>0</td>\n",
       "    </tr>\n",
       "    <tr>\n",
       "      <th>4</th>\n",
       "      <td>3.252023</td>\n",
       "      <td>4.610699</td>\n",
       "      <td>3.905971</td>\n",
       "      <td>6.392524</td>\n",
       "      <td>0.084117</td>\n",
       "      <td>675.0</td>\n",
       "      <td>unknown</td>\n",
       "      <td>0.0</td>\n",
       "      <td>1</td>\n",
       "      <td>0</td>\n",
       "      <td>...</td>\n",
       "      <td>0</td>\n",
       "      <td>0</td>\n",
       "      <td>0</td>\n",
       "      <td>0</td>\n",
       "      <td>0</td>\n",
       "      <td>0</td>\n",
       "      <td>0</td>\n",
       "      <td>0</td>\n",
       "      <td>0</td>\n",
       "      <td>0</td>\n",
       "    </tr>\n",
       "  </tbody>\n",
       "</table>\n",
       "<p>5 rows × 52 columns</p>\n",
       "</div>"
      ],
      "text/plain": [
       "   short_name      town  product_id  route_id  sales_channel_id  weight  \\\n",
       "0    5.445338  5.048567    5.528601  6.266273          0.084117    85.0   \n",
       "1    3.902528  5.819874    4.046264  6.279286          0.084117    66.0   \n",
       "2    3.279632  5.936488    3.999277  5.322155          0.084117    62.0   \n",
       "3    5.048235  5.381851    7.007199  6.236371          0.084117   360.0   \n",
       "4    3.252023  4.610699    3.905971  6.392524          0.084117   675.0   \n",
       "\n",
       "    pieces  target  state_Top10  state_Top11-21  ...  brand_PUL  brand_RIC  \\\n",
       "0      1.0     0.0            1               0  ...          0          0   \n",
       "1      4.0     0.0            1               0  ...          0          0   \n",
       "2      1.0     1.0            0               1  ...          0          0   \n",
       "3     30.0     0.0            0               1  ...          0          0   \n",
       "4  unknown     0.0            1               0  ...          0          0   \n",
       "\n",
       "   brand_SAN  brand_SL  brand_SUA  brand_SUN  brand_THO  brand_TR  brand_TRI  \\\n",
       "0          0         0          0          0          0         0          0   \n",
       "1          0         0          0          0          0         0          0   \n",
       "2          0         0          0          0          0         0          0   \n",
       "3          0         0          0          0          0         0          0   \n",
       "4          0         0          0          0          0         0          0   \n",
       "\n",
       "   brand_WON  \n",
       "0          0  \n",
       "1          0  \n",
       "2          0  \n",
       "3          0  \n",
       "4          0  \n",
       "\n",
       "[5 rows x 52 columns]"
      ]
     },
     "execution_count": 28,
     "metadata": {},
     "output_type": "execute_result"
    }
   ],
   "source": [
    "dfe = pd.get_dummies(dfe, columns=[\"brand\"])\n",
    "dfe.head()"
   ]
  },
  {
   "cell_type": "markdown",
   "id": "52957218",
   "metadata": {},
   "source": [
    " - ## weight"
   ]
  },
  {
   "cell_type": "markdown",
   "id": "7469dd54",
   "metadata": {},
   "source": [
    "classes"
   ]
  },
  {
   "cell_type": "code",
   "execution_count": 29,
   "id": "a748a7a0",
   "metadata": {},
   "outputs": [
    {
     "data": {
      "text/plain": [
       "weight\n",
       "1.32        0.000002\n",
       "5.00        0.000376\n",
       "6.00        0.000002\n",
       "12.00       0.000002\n",
       "13.00       0.000130\n",
       "              ...   \n",
       "4020.00     0.000002\n",
       "5000.00     0.000273\n",
       "6000.00     0.000002\n",
       "8040.00     0.000001\n",
       "12000.00    0.000009\n",
       "Length: 234, dtype: float64"
      ]
     },
     "execution_count": 29,
     "metadata": {},
     "output_type": "execute_result"
    }
   ],
   "source": [
    "# we can see that current distribution is all over the place\n",
    "dfe.groupby('weight').size()/dfe['weight'].count()"
   ]
  },
  {
   "cell_type": "code",
   "execution_count": 30,
   "id": "ad3452ae",
   "metadata": {},
   "outputs": [],
   "source": [
    "# get pre-cut weights for future use\n",
    "pre_weight = dfe['weight']"
   ]
  },
  {
   "cell_type": "code",
   "execution_count": 31,
   "id": "45b8d1d5",
   "metadata": {},
   "outputs": [],
   "source": [
    "# cuts data into 3 equally sized bins\n",
    "dfe['weight'] = pd.qcut(dfe['weight'],q=3,labels=False)"
   ]
  },
  {
   "cell_type": "code",
   "execution_count": 32,
   "id": "0c0dabc5",
   "metadata": {},
   "outputs": [
    {
     "data": {
      "text/plain": [
       "<AxesSubplot:ylabel='Frequency'>"
      ]
     },
     "execution_count": 32,
     "metadata": {},
     "output_type": "execute_result"
    },
    {
     "data": {
      "image/png": "[encoded data removed]",
      "text/plain": [
       "<Figure size 640x480 with 1 Axes>"
      ]
     },
     "metadata": {},
     "output_type": "display_data"
    }
   ],
   "source": [
    "# distribution after cut\n",
    "dfe['weight'].plot(kind='hist', edgecolor='black')"
   ]
  },
  {
   "cell_type": "markdown",
   "id": "2cf7a841",
   "metadata": {},
   "source": [
    " - ## pieces"
   ]
  },
  {
   "cell_type": "markdown",
   "id": "86705e5c",
   "metadata": {},
   "source": [
    "classes"
   ]
  },
  {
   "cell_type": "code",
   "execution_count": 33,
   "id": "8c68ef68",
   "metadata": {},
   "outputs": [
    {
     "data": {
      "text/plain": [
       "town\n",
       "4.387104     0.012437\n",
       "4.478456     0.011351\n",
       "4.524851     0.010836\n",
       "4.546261     0.010607\n",
       "4.562292     0.010438\n",
       "               ...   \n",
       "10.659037    0.000023\n",
       "10.805641    0.000020\n",
       "10.859708    0.000019\n",
       "12.363786    0.000004\n",
       "13.056933    0.000002\n",
       "Length: 251, dtype: float64"
      ]
     },
     "execution_count": 33,
     "metadata": {},
     "output_type": "execute_result"
    }
   ],
   "source": [
    "dfe.groupby('town').size()/dfe['town'].count()"
   ]
  },
  {
   "cell_type": "code",
   "execution_count": 34,
   "id": "f804a906",
   "metadata": {},
   "outputs": [
    {
     "data": {
      "text/plain": [
       "count      936664\n",
       "unique         32\n",
       "top       unknown\n",
       "freq       332425\n",
       "Name: pieces, dtype: object"
      ]
     },
     "execution_count": 34,
     "metadata": {},
     "output_type": "execute_result"
    }
   ],
   "source": [
    "dfe['pieces'].describe()"
   ]
  },
  {
   "cell_type": "code",
   "execution_count": 35,
   "id": "0d70fd64",
   "metadata": {},
   "outputs": [],
   "source": [
    "# changing \"unknown\" to 1 because every product is atleast 1 piece\n",
    "dfe.loc[dfe[\"pieces\"] == \"unknown\", \"pieces\"] = 1"
   ]
  },
  {
   "cell_type": "code",
   "execution_count": 36,
   "id": "e678af39",
   "metadata": {},
   "outputs": [],
   "source": [
    "dfe['pieces'] = pd.to_numeric(dfe['pieces'])"
   ]
  },
  {
   "cell_type": "code",
   "execution_count": 37,
   "id": "c2488967",
   "metadata": {},
   "outputs": [
    {
     "data": {
      "text/plain": [
       "pieces\n",
       "1.0      0.452920\n",
       "2.0      0.151866\n",
       "3.0      0.073377\n",
       "4.0      0.085791\n",
       "5.0      0.002216\n",
       "6.0      0.078758\n",
       "7.0      0.000038\n",
       "8.0      0.054326\n",
       "9.0      0.000002\n",
       "10.0     0.060013\n",
       "11.0     0.000115\n",
       "12.0     0.002664\n",
       "14.0     0.003176\n",
       "15.0     0.004216\n",
       "16.0     0.000302\n",
       "18.0     0.004800\n",
       "20.0     0.011855\n",
       "21.0     0.000781\n",
       "22.0     0.001486\n",
       "24.0     0.000147\n",
       "25.0     0.000001\n",
       "27.0     0.000001\n",
       "30.0     0.007285\n",
       "32.0     0.000001\n",
       "33.0     0.003477\n",
       "36.0     0.000001\n",
       "40.0     0.000249\n",
       "43.0     0.000002\n",
       "50.0     0.000096\n",
       "104.0    0.000002\n",
       "200.0    0.000033\n",
       "dtype: float64"
      ]
     },
     "execution_count": 37,
     "metadata": {},
     "output_type": "execute_result"
    }
   ],
   "source": [
    "# current distribution\n",
    "dfe.groupby('pieces').size()/dfe['pieces'].count()"
   ]
  },
  {
   "cell_type": "code",
   "execution_count": 38,
   "id": "0c88dfb5",
   "metadata": {},
   "outputs": [],
   "source": [
    "dfi = dfe.copy()"
   ]
  },
  {
   "cell_type": "markdown",
   "id": "8050912d",
   "metadata": {},
   "source": [
    "1-1: 45%\\\n",
    "2+: 55%\\"
   ]
  },
  {
   "cell_type": "code",
   "execution_count": 39,
   "id": "2f6d4e7a",
   "metadata": {},
   "outputs": [],
   "source": [
    "# technical limitations mean we have to set the limits by hand\n",
    "bins = pd.IntervalIndex.from_tuples([(-1, 1.5), (1.6, 201)])\n",
    "labels = ['1', '2']\n",
    "# dfi['pieces'] = pd.cut(dfi['pieces'], bins, labels=['0', '1', '2']) not working bc of bug lol\n",
    "\n",
    "# fix by user anky at https://stackoverflow.com/questions/60846442/python-pandas-cut-labels-are-ignored\n",
    "dfi['pieces']  = dfi['pieces'].map(dict(zip(bins,labels)))"
   ]
  },
  {
   "cell_type": "code",
   "execution_count": 40,
   "id": "65dd6d8c",
   "metadata": {},
   "outputs": [
    {
     "data": {
      "text/plain": [
       "<AxesSubplot:ylabel='Frequency'>"
      ]
     },
     "execution_count": 40,
     "metadata": {},
     "output_type": "execute_result"
    },
    {
     "data": {
      "image/png": "[encoded data removed]",
      "text/plain": [
       "<Figure size 640x480 with 1 Axes>"
      ]
     },
     "metadata": {},
     "output_type": "display_data"
    }
   ],
   "source": [
    "# distribution isn't perfect but usable\n",
    "dfi['pieces'] = pd.to_numeric(dfi['pieces'])\n",
    "dfi['pieces'].plot(kind='hist', edgecolor='black')"
   ]
  },
  {
   "cell_type": "markdown",
   "id": "c14436de",
   "metadata": {},
   "source": [
    " - ## target"
   ]
  },
  {
   "cell_type": "markdown",
   "id": "37dd2bee",
   "metadata": {},
   "source": [
    "create + stats"
   ]
  },
  {
   "cell_type": "code",
   "execution_count": null,
   "id": "ff89d65b",
   "metadata": {},
   "outputs": [],
   "source": [
    "create_target(dfi)"
   ]
  },
  {
   "cell_type": "code",
   "execution_count": 41,
   "id": "fade53d7",
   "metadata": {},
   "outputs": [
    {
     "data": {
      "text/plain": [
       "target\n",
       "0.0    0.53445\n",
       "1.0    0.46555\n",
       "dtype: float64"
      ]
     },
     "execution_count": 41,
     "metadata": {},
     "output_type": "execute_result"
    }
   ],
   "source": [
    "dfi.groupby('target').size()/dfi['target'].count()"
   ]
  },
  {
   "cell_type": "markdown",
   "id": "3b6454d7",
   "metadata": {},
   "source": [
    "- ## client_id"
   ]
  },
  {
   "cell_type": "markdown",
   "id": "cbf668ff",
   "metadata": {},
   "source": [
    "delete for scenarios 5,6\n",
    "keep for 7"
   ]
  },
  {
   "cell_type": "code",
   "execution_count": 10,
   "id": "e106e535",
   "metadata": {},
   "outputs": [],
   "source": [
    "df56 = dfi.drop(columns=['client_id'])"
   ]
  },
  {
   "cell_type": "markdown",
   "id": "3e8c2bfe",
   "metadata": {},
   "source": [
    "# create scenarios and save to csv area"
   ]
  },
  {
   "cell_type": "markdown",
   "id": "809e0dad",
   "metadata": {},
   "source": [
    "drop all null values\\\n",
    "how did they even get here"
   ]
  },
  {
   "cell_type": "code",
   "execution_count": 43,
   "id": "27578d0e",
   "metadata": {},
   "outputs": [],
   "source": [
    "dfina56 = dfi56.dropna()\n",
    "dfina7 = dfi.dropna()"
   ]
  },
  {
   "cell_type": "markdown",
   "id": "6d2eb998",
   "metadata": {},
   "source": [
    "### scenario 4\n",
    "numerical data + weight"
   ]
  },
  {
   "cell_type": "code",
   "execution_count": null,
   "id": "743c4e73",
   "metadata": {},
   "outputs": [],
   "source": []
  },
  {
   "cell_type": "markdown",
   "id": "8db9b2d4",
   "metadata": {},
   "source": [
    "### scenario 5\n",
    "numerical variables + IDs"
   ]
  },
  {
   "cell_type": "code",
   "execution_count": null,
   "id": "25bfa178",
   "metadata": {},
   "outputs": [],
   "source": []
  },
  {
   "cell_type": "markdown",
   "id": "ad886b59",
   "metadata": {},
   "source": [
    "### scenario 6\n",
    "categorical variables"
   ]
  },
  {
   "cell_type": "code",
   "execution_count": 45,
   "id": "b4b0bafa",
   "metadata": {},
   "outputs": [],
   "source": [
    "dfina56.to_csv('dados/06-categoricas.csv',index=False)"
   ]
  },
  {
   "cell_type": "markdown",
   "id": "181f55b7",
   "metadata": {},
   "source": [
    "### scenario 7\n",
    "top 1000 clients"
   ]
  },
  {
   "cell_type": "code",
   "execution_count": null,
   "id": "4cdcbf74",
   "metadata": {},
   "outputs": [],
   "source": [
    "n = 10000\n",
    "top_clients = df['client_id'].value_counts()[:n].index.tolist()\n",
    "df = df.loc[df['client_id'].isin(top_clients)]"
   ]
  },
  {
   "cell_type": "code",
   "execution_count": null,
   "id": "40bb5156",
   "metadata": {},
   "outputs": [],
   "source": [
    "dfina7.to_csv('dados/07-top-clients.csv',index=False)"
   ]
  }
 ],
 "metadata": {
  "kernelspec": {
   "display_name": "Python 3 (ipykernel)",
   "language": "python",
   "name": "python3"
  },
  "language_info": {
   "codemirror_mode": {
    "name": "ipython",
    "version": 3
   },
   "file_extension": ".py",
   "mimetype": "text/x-python",
   "name": "python",
   "nbconvert_exporter": "python",
   "pygments_lexer": "ipython3",
   "version": "3.9.13"
  }
 },
 "nbformat": 4,
 "nbformat_minor": 5
}
