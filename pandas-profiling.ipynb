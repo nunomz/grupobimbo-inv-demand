{
 "cells": [
  {
   "cell_type": "code",
   "execution_count": null,
   "id": "3f36bff3",
   "metadata": {},
   "outputs": [],
   "source": [
    "pip install pandas-profiling"
   ]
  },
  {
   "cell_type": "code",
   "execution_count": null,
   "id": "6d62c4fb",
   "metadata": {},
   "outputs": [],
   "source": [
    "import pandas as pd\n",
    "from pandas_profiling import ProfileReport"
   ]
  },
  {
   "cell_type": "markdown",
   "id": "e1097b16",
   "metadata": {},
   "source": [
    "some inspiration taken from [here](https://towardsdatascience.com/exploratory-data-analysis-with-pandas-profiling-de3aae2ddff3)"
   ]
  },
  {
   "cell_type": "code",
   "execution_count": null,
   "id": "cad51646",
   "metadata": {},
   "outputs": [],
   "source": [
    "df = pd.read_csv(\"data/03-outliers-zscore.csv\")"
   ]
  },
  {
   "cell_type": "code",
   "execution_count": null,
   "id": "0e58fbe8",
   "metadata": {},
   "outputs": [],
   "source": [
    "prof = ProfileReport(df)\n",
    "prof.to_file(output_file='output.html')"
   ]
  },
  {
   "cell_type": "code",
   "execution_count": null,
   "id": "1e49d28d",
   "metadata": {},
   "outputs": [],
   "source": []
  }
 ],
 "metadata": {
  "kernelspec": {
   "display_name": "Python 3 (ipykernel)",
   "language": "python",
   "name": "python3"
  },
  "language_info": {
   "codemirror_mode": {
    "name": "ipython",
    "version": 3
   },
   "file_extension": ".py",
   "mimetype": "text/x-python",
   "name": "python",
   "nbconvert_exporter": "python",
   "pygments_lexer": "ipython3",
   "version": "3.9.13"
  }
 },
 "nbformat": 4,
 "nbformat_minor": 5
}
