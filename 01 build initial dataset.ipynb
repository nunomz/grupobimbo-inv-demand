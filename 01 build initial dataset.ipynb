{
 "cells": [
  {
   "cell_type": "code",
   "execution_count": 1,
   "id": "57c23c36",
   "metadata": {},
   "outputs": [],
   "source": [
    "import pandas as pd\n",
    "import numpy as np"
   ]
  },
  {
   "cell_type": "markdown",
   "id": "299cb174",
   "metadata": {},
   "source": [
    "## load csvs to dfs"
   ]
  },
  {
   "cell_type": "code",
   "execution_count": null,
   "id": "f0fcae3a",
   "metadata": {},
   "outputs": [],
   "source": [
    "df = pd.read_csv(\"../dados/final_weight.csv\")\n",
    "df.describe()"
   ]
  },
  {
   "cell_type": "markdown",
   "id": "b5a9fc19",
   "metadata": {},
   "source": [
    "## basic pre-preparation"
   ]
  },
  {
   "cell_type": "markdown",
   "id": "110ecdba",
   "metadata": {},
   "source": [
    "delete unnecessary columns created bc old me couldnt write to csvs correctly"
   ]
  },
  {
   "cell_type": "code",
   "execution_count": null,
   "id": "4db7d46e",
   "metadata": {},
   "outputs": [],
   "source": [
    "del df[\"Unnamed: 0.1\"]\n",
    "del df[\"Unnamed: 0\"]"
   ]
  },
  {
   "cell_type": "markdown",
   "id": "46243ed0",
   "metadata": {},
   "source": [
    "get rid of nulls on pieces category"
   ]
  },
  {
   "cell_type": "code",
   "execution_count": null,
   "id": "629d2acf",
   "metadata": {},
   "outputs": [],
   "source": [
    "df[\"pieces\"] = df[\"pieces\"].fillna('unknown')\n",
    "df.describe(include='all')"
   ]
  },
  {
   "cell_type": "code",
   "execution_count": null,
   "id": "8a4a3c54",
   "metadata": {},
   "outputs": [],
   "source": [
    "df.head()"
   ]
  },
  {
   "cell_type": "markdown",
   "id": "606671c6",
   "metadata": {},
   "source": [
    "## create target"
   ]
  },
  {
   "cell_type": "markdown",
   "id": "12caca0e",
   "metadata": {},
   "source": [
    "target is equal to the difference between the number of units of a given product that were bought on a given week and the units of that same product that were returned the next week"
   ]
  },
  {
   "cell_type": "code",
   "execution_count": null,
   "id": "d9eafa95",
   "metadata": {},
   "outputs": [],
   "source": [
    "demanda = df['sales_unit_this_week'] - df['returns_unit_next_week']\n",
    "df['target'] = np.where(demanda > 0, demanda, 0)"
   ]
  },
  {
   "cell_type": "markdown",
   "id": "b08ba175",
   "metadata": {},
   "source": [
    "choose what dataframe to treat"
   ]
  },
  {
   "cell_type": "code",
   "execution_count": 27,
   "id": "a948908a",
   "metadata": {},
   "outputs": [],
   "source": [
    "#dft = df\n",
    "#dft = pd.read_csv(\"data/02-zscore15-sem-target.csv\")\n",
    "#dft.to_csv(\"data/02-zscore15.csv\",index=False)\n",
    "#dft = pd.read_csv(\"data/02-zscore-inclui-ids-sem-target.csv\")\n",
    "#dft.to_csv(\"data/02-zscore-inclui-ids.csv\",index=False)"
   ]
  },
  {
   "cell_type": "markdown",
   "id": "8a57ba48",
   "metadata": {},
   "source": [
    "target to log10\n",
    "\n",
    "if target = 0, stays the same, otherwise is converted into it's log10"
   ]
  },
  {
   "cell_type": "code",
   "execution_count": 23,
   "id": "7ec2e6cb",
   "metadata": {},
   "outputs": [
    {
     "name": "stderr",
     "output_type": "stream",
     "text": [
      "E:\\Programas\\Anaconda\\lib\\site-packages\\pandas\\core\\arraylike.py:397: RuntimeWarning: divide by zero encountered in log10\n",
      "  result = getattr(ufunc, method)(*inputs, **kwargs)\n"
     ]
    }
   ],
   "source": [
    "dft.loc[dft['target'] == 0, 'target'] = 0\n",
    "dft.loc[dft['target'] > 0, 'target'] = np.log10(dft[\"target\"])"
   ]
  },
  {
   "cell_type": "markdown",
   "id": "e6e38cc8",
   "metadata": {},
   "source": [
    "target mean"
   ]
  },
  {
   "cell_type": "code",
   "execution_count": 24,
   "id": "45c6fe6c",
   "metadata": {},
   "outputs": [
    {
     "data": {
      "text/plain": [
       "0.5299876525472841"
      ]
     },
     "execution_count": 24,
     "metadata": {},
     "output_type": "execute_result"
    }
   ],
   "source": [
    "meaner = np.mean(dft[\"target\"])\n",
    "meaner"
   ]
  },
  {
   "cell_type": "markdown",
   "id": "b6fa2010",
   "metadata": {},
   "source": [
    "target to binary:\n",
    "if target bigger than its mean, then = 1\n",
    "else = 0"
   ]
  },
  {
   "cell_type": "code",
   "execution_count": 25,
   "id": "974b5e1a",
   "metadata": {},
   "outputs": [],
   "source": [
    "dft.loc[dft['target'] < meaner, 'target'] = 0\n",
    "dft.loc[dft['target'] > meaner, 'target'] = 1"
   ]
  },
  {
   "cell_type": "markdown",
   "id": "37f75970",
   "metadata": {},
   "source": [
    "remove variables with direct correlation to target"
   ]
  },
  {
   "cell_type": "code",
   "execution_count": 26,
   "id": "0681888d",
   "metadata": {},
   "outputs": [],
   "source": [
    "dft = dft.drop(columns=[\"sales_unit_this_week\",\"sales_this_week\",\"returns_unit_next_week\",\"returns_next_week\"])"
   ]
  },
  {
   "cell_type": "markdown",
   "id": "941132dd",
   "metadata": {},
   "source": [
    "## save to csvs"
   ]
  },
  {
   "cell_type": "markdown",
   "id": "64630ec4",
   "metadata": {},
   "source": [
    "save df with only numeric values for cenario 1"
   ]
  },
  {
   "cell_type": "code",
   "execution_count": null,
   "id": "d7b7437f",
   "metadata": {},
   "outputs": [],
   "source": [
    "df_initial = dft[[\"week_number\",\"sales_depot_id\",\"sales_channel_id\",\"route_id\",\"client_id\",\"product_id\",\"target\"]]\n",
    "df_initial.to_csv('data/01-apenas-numericos.csv',index=False)"
   ]
  },
  {
   "cell_type": "markdown",
   "id": "a23eb728",
   "metadata": {},
   "source": [
    "save df with everything"
   ]
  },
  {
   "cell_type": "code",
   "execution_count": null,
   "id": "aa6f0dd9",
   "metadata": {},
   "outputs": [],
   "source": [
    "dft.to_csv('data/01-completo.csv',index=False)"
   ]
  },
  {
   "cell_type": "markdown",
   "id": "665a08b5",
   "metadata": {},
   "source": [
    "save df without target processing for outlier treatment"
   ]
  },
  {
   "cell_type": "code",
   "execution_count": null,
   "id": "a9cf9e60",
   "metadata": {},
   "outputs": [],
   "source": [
    "df.to_csv('data/00-completo-sem-target.csv',index=False)"
   ]
  },
  {
   "cell_type": "markdown",
   "id": "852f351a",
   "metadata": {},
   "source": [
    "## end"
   ]
  }
 ],
 "metadata": {
  "kernelspec": {
   "display_name": "Python 3 (ipykernel)",
   "language": "python",
   "name": "python3"
  },
  "language_info": {
   "codemirror_mode": {
    "name": "ipython",
    "version": 3
   },
   "file_extension": ".py",
   "mimetype": "text/x-python",
   "name": "python",
   "nbconvert_exporter": "python",
   "pygments_lexer": "ipython3",
   "version": "3.9.13"
  }
 },
 "nbformat": 4,
 "nbformat_minor": 5
}
