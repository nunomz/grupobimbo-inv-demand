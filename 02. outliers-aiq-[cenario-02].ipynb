{
 "cells": [
  {
   "cell_type": "code",
   "execution_count": 2,
   "id": "882f9c7e",
   "metadata": {},
   "outputs": [],
   "source": [
    "import pandas as pd\n",
    "import numpy as np\n",
    "from scipy import stats\n",
    "%run -i create_target.py"
   ]
  },
  {
   "cell_type": "markdown",
   "id": "74b37823",
   "metadata": {},
   "source": [
    "## load csv with all available info"
   ]
  },
  {
   "cell_type": "code",
   "execution_count": 4,
   "id": "b89ab8c0",
   "metadata": {},
   "outputs": [
    {
     "data": {
      "text/plain": [
       "week_number           int64\n",
       "sales_depot_id        int64\n",
       "sales_channel_id      int64\n",
       "route_id              int64\n",
       "client_id             int64\n",
       "product_id            int64\n",
       "town                 object\n",
       "state                object\n",
       "client_name          object\n",
       "short_name           object\n",
       "brand                object\n",
       "weight              float64\n",
       "pieces               object\n",
       "target              float64\n",
       "dtype: object"
      ]
     },
     "execution_count": 4,
     "metadata": {},
     "output_type": "execute_result"
    }
   ],
   "source": [
    "df = pd.read_csv(\"dados/00-merged.csv\")\n",
    "df.dtypes"
   ]
  },
  {
   "cell_type": "markdown",
   "id": "9ec257b0",
   "metadata": {},
   "source": [
    "## create target"
   ]
  },
  {
   "cell_type": "code",
   "execution_count": null,
   "id": "a0dcdfa3",
   "metadata": {},
   "outputs": [],
   "source": [
    "create_target(df)"
   ]
  },
  {
   "cell_type": "markdown",
   "id": "f14c0638",
   "metadata": {},
   "source": [
    "## save to csv"
   ]
  },
  {
   "cell_type": "code",
   "execution_count": 55,
   "id": "b3055a36",
   "metadata": {},
   "outputs": [],
   "source": [
    "df.to_csv('data/02-outliers-aiq.csv',index=False)"
   ]
  },
  {
   "cell_type": "code",
   "execution_count": null,
   "id": "9ae0e785",
   "metadata": {},
   "outputs": [],
   "source": []
  }
 ],
 "metadata": {
  "kernelspec": {
   "display_name": "Python 3 (ipykernel)",
   "language": "python",
   "name": "python3"
  },
  "language_info": {
   "codemirror_mode": {
    "name": "ipython",
    "version": 3
   },
   "file_extension": ".py",
   "mimetype": "text/x-python",
   "name": "python",
   "nbconvert_exporter": "python",
   "pygments_lexer": "ipython3",
   "version": "3.9.13"
  }
 },
 "nbformat": 4,
 "nbformat_minor": 5
}
