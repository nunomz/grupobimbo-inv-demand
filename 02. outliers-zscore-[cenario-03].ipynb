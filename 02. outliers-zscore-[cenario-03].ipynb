{
 "cells": [
  {
   "cell_type": "markdown",
   "id": "a2c547eb",
   "metadata": {},
   "source": [
    "some inspiration taken from [@stevernewman on medium](https://medium.com/@stevernewman/eliminating-outliers-in-python-with-z-scores-dd72ca5d4ead)"
   ]
  },
  {
   "cell_type": "code",
   "execution_count": 7,
   "id": "882f9c7e",
   "metadata": {},
   "outputs": [],
   "source": [
    "import pandas as pd\n",
    "import numpy as np\n",
    "from scipy import stats\n",
    "%run -i create_target.py"
   ]
  },
  {
   "cell_type": "markdown",
   "id": "74b37823",
   "metadata": {},
   "source": [
    "## load csv with all available info"
   ]
  },
  {
   "cell_type": "code",
   "execution_count": 3,
   "id": "b89ab8c0",
   "metadata": {},
   "outputs": [
    {
     "data": {
      "text/plain": [
       "week_number          int64\n",
       "Agencia_ID           int64\n",
       "Canal_ID             int64\n",
       "Ruta_SAK             int64\n",
       "Cliente_ID           int64\n",
       "Producto_ID          int64\n",
       "Venta_uni_hoy        int64\n",
       "Venta_hoy          float64\n",
       "Dev_uni_proxima      int64\n",
       "Dev_proxima        float64\n",
       "target               int64\n",
       "NombreProducto      object\n",
       "Town                object\n",
       "State               object\n",
       "NombreCliente       object\n",
       "dtype: object"
      ]
     },
     "execution_count": 3,
     "metadata": {},
     "output_type": "execute_result"
    }
   ],
   "source": [
    "df = pd.read_csv(\"dados/00-merged.csv\")\n",
    "df.dtypes"
   ]
  },
  {
   "cell_type": "markdown",
   "id": "e7233bc4",
   "metadata": {},
   "source": [
    "## Stats exploration (not necessary)"
   ]
  },
  {
   "cell_type": "code",
   "execution_count": null,
   "id": "d156c8b9",
   "metadata": {},
   "outputs": [],
   "source": [
    "# create specific df for stats\n",
    "df_stats = df"
   ]
  },
  {
   "cell_type": "code",
   "execution_count": 10,
   "id": "53e704f9",
   "metadata": {},
   "outputs": [
    {
     "data": {
      "text/html": [
       "<div>\n",
       "<style scoped>\n",
       "    .dataframe tbody tr th:only-of-type {\n",
       "        vertical-align: middle;\n",
       "    }\n",
       "\n",
       "    .dataframe tbody tr th {\n",
       "        vertical-align: top;\n",
       "    }\n",
       "\n",
       "    .dataframe thead th {\n",
       "        text-align: right;\n",
       "    }\n",
       "</style>\n",
       "<table border=\"1\" class=\"dataframe\">\n",
       "  <thead>\n",
       "    <tr style=\"text-align: right;\">\n",
       "      <th></th>\n",
       "      <th>sales_unit_this_week</th>\n",
       "      <th>sales_unit_this_week-zscore</th>\n",
       "    </tr>\n",
       "  </thead>\n",
       "  <tbody>\n",
       "    <tr>\n",
       "      <th>count</th>\n",
       "      <td>971976.000</td>\n",
       "      <td>971976.000</td>\n",
       "    </tr>\n",
       "    <tr>\n",
       "      <th>mean</th>\n",
       "      <td>7.324</td>\n",
       "      <td>-0.000</td>\n",
       "    </tr>\n",
       "    <tr>\n",
       "      <th>std</th>\n",
       "      <td>21.453</td>\n",
       "      <td>1.000</td>\n",
       "    </tr>\n",
       "    <tr>\n",
       "      <th>min</th>\n",
       "      <td>0.000</td>\n",
       "      <td>-0.341</td>\n",
       "    </tr>\n",
       "    <tr>\n",
       "      <th>25%</th>\n",
       "      <td>2.000</td>\n",
       "      <td>-0.248</td>\n",
       "    </tr>\n",
       "    <tr>\n",
       "      <th>50%</th>\n",
       "      <td>3.000</td>\n",
       "      <td>-0.202</td>\n",
       "    </tr>\n",
       "    <tr>\n",
       "      <th>75%</th>\n",
       "      <td>7.000</td>\n",
       "      <td>-0.015</td>\n",
       "    </tr>\n",
       "    <tr>\n",
       "      <th>max</th>\n",
       "      <td>5000.000</td>\n",
       "      <td>232.725</td>\n",
       "    </tr>\n",
       "  </tbody>\n",
       "</table>\n",
       "</div>"
      ],
      "text/plain": [
       "       sales_unit_this_week  sales_unit_this_week-zscore\n",
       "count            971976.000                   971976.000\n",
       "mean                  7.324                       -0.000\n",
       "std                  21.453                        1.000\n",
       "min                   0.000                       -0.341\n",
       "25%                   2.000                       -0.248\n",
       "50%                   3.000                       -0.202\n",
       "75%                   7.000                       -0.015\n",
       "max                5000.000                      232.725"
      ]
     },
     "execution_count": 10,
     "metadata": {},
     "output_type": "execute_result"
    }
   ],
   "source": [
    "# sales_unit_this_week\n",
    "df_stats['sales_unit_this_week-zscore'] = stats.zscore(df_stats['sales_unit_this_week'])\n",
    "df_stats[['sales_unit_this_week','sales_unit_this_week-zscore']].describe().round(3)"
   ]
  },
  {
   "cell_type": "code",
   "execution_count": 11,
   "id": "4832b356",
   "metadata": {},
   "outputs": [
    {
     "data": {
      "text/html": [
       "<div>\n",
       "<style scoped>\n",
       "    .dataframe tbody tr th:only-of-type {\n",
       "        vertical-align: middle;\n",
       "    }\n",
       "\n",
       "    .dataframe tbody tr th {\n",
       "        vertical-align: top;\n",
       "    }\n",
       "\n",
       "    .dataframe thead th {\n",
       "        text-align: right;\n",
       "    }\n",
       "</style>\n",
       "<table border=\"1\" class=\"dataframe\">\n",
       "  <thead>\n",
       "    <tr style=\"text-align: right;\">\n",
       "      <th></th>\n",
       "      <th>sales_this_week</th>\n",
       "      <th>sales_this_week-zscore</th>\n",
       "    </tr>\n",
       "  </thead>\n",
       "  <tbody>\n",
       "    <tr>\n",
       "      <th>count</th>\n",
       "      <td>971976.000</td>\n",
       "      <td>971976.000</td>\n",
       "    </tr>\n",
       "    <tr>\n",
       "      <th>mean</th>\n",
       "      <td>68.568</td>\n",
       "      <td>0.000</td>\n",
       "    </tr>\n",
       "    <tr>\n",
       "      <th>std</th>\n",
       "      <td>288.706</td>\n",
       "      <td>1.000</td>\n",
       "    </tr>\n",
       "    <tr>\n",
       "      <th>min</th>\n",
       "      <td>0.000</td>\n",
       "      <td>-0.237</td>\n",
       "    </tr>\n",
       "    <tr>\n",
       "      <th>25%</th>\n",
       "      <td>16.760</td>\n",
       "      <td>-0.179</td>\n",
       "    </tr>\n",
       "    <tr>\n",
       "      <th>50%</th>\n",
       "      <td>30.000</td>\n",
       "      <td>-0.134</td>\n",
       "    </tr>\n",
       "    <tr>\n",
       "      <th>75%</th>\n",
       "      <td>56.250</td>\n",
       "      <td>-0.043</td>\n",
       "    </tr>\n",
       "    <tr>\n",
       "      <th>max</th>\n",
       "      <td>50353.220</td>\n",
       "      <td>174.173</td>\n",
       "    </tr>\n",
       "  </tbody>\n",
       "</table>\n",
       "</div>"
      ],
      "text/plain": [
       "       sales_this_week  sales_this_week-zscore\n",
       "count       971976.000              971976.000\n",
       "mean            68.568                   0.000\n",
       "std            288.706                   1.000\n",
       "min              0.000                  -0.237\n",
       "25%             16.760                  -0.179\n",
       "50%             30.000                  -0.134\n",
       "75%             56.250                  -0.043\n",
       "max          50353.220                 174.173"
      ]
     },
     "execution_count": 11,
     "metadata": {},
     "output_type": "execute_result"
    }
   ],
   "source": [
    "# sales_this_week\n",
    "df_stats['sales_this_week-zscore'] = stats.zscore(df_stats['sales_this_week'])\n",
    "df_stats[['sales_this_week','sales_this_week-zscore']].describe().round(3)"
   ]
  },
  {
   "cell_type": "code",
   "execution_count": 12,
   "id": "6299f150",
   "metadata": {},
   "outputs": [
    {
     "data": {
      "text/html": [
       "<div>\n",
       "<style scoped>\n",
       "    .dataframe tbody tr th:only-of-type {\n",
       "        vertical-align: middle;\n",
       "    }\n",
       "\n",
       "    .dataframe tbody tr th {\n",
       "        vertical-align: top;\n",
       "    }\n",
       "\n",
       "    .dataframe thead th {\n",
       "        text-align: right;\n",
       "    }\n",
       "</style>\n",
       "<table border=\"1\" class=\"dataframe\">\n",
       "  <thead>\n",
       "    <tr style=\"text-align: right;\">\n",
       "      <th></th>\n",
       "      <th>returns_unit_next_week</th>\n",
       "      <th>returns_unit_next_week-zscore</th>\n",
       "    </tr>\n",
       "  </thead>\n",
       "  <tbody>\n",
       "    <tr>\n",
       "      <th>count</th>\n",
       "      <td>971976.000</td>\n",
       "      <td>971976.000</td>\n",
       "    </tr>\n",
       "    <tr>\n",
       "      <th>mean</th>\n",
       "      <td>0.128</td>\n",
       "      <td>-0.000</td>\n",
       "    </tr>\n",
       "    <tr>\n",
       "      <th>std</th>\n",
       "      <td>2.510</td>\n",
       "      <td>1.000</td>\n",
       "    </tr>\n",
       "    <tr>\n",
       "      <th>min</th>\n",
       "      <td>0.000</td>\n",
       "      <td>-0.051</td>\n",
       "    </tr>\n",
       "    <tr>\n",
       "      <th>25%</th>\n",
       "      <td>0.000</td>\n",
       "      <td>-0.051</td>\n",
       "    </tr>\n",
       "    <tr>\n",
       "      <th>50%</th>\n",
       "      <td>0.000</td>\n",
       "      <td>-0.051</td>\n",
       "    </tr>\n",
       "    <tr>\n",
       "      <th>75%</th>\n",
       "      <td>0.000</td>\n",
       "      <td>-0.051</td>\n",
       "    </tr>\n",
       "    <tr>\n",
       "      <th>max</th>\n",
       "      <td>1241.000</td>\n",
       "      <td>494.383</td>\n",
       "    </tr>\n",
       "  </tbody>\n",
       "</table>\n",
       "</div>"
      ],
      "text/plain": [
       "       returns_unit_next_week  returns_unit_next_week-zscore\n",
       "count              971976.000                     971976.000\n",
       "mean                    0.128                         -0.000\n",
       "std                     2.510                          1.000\n",
       "min                     0.000                         -0.051\n",
       "25%                     0.000                         -0.051\n",
       "50%                     0.000                         -0.051\n",
       "75%                     0.000                         -0.051\n",
       "max                  1241.000                        494.383"
      ]
     },
     "execution_count": 12,
     "metadata": {},
     "output_type": "execute_result"
    }
   ],
   "source": [
    "# returns_unit_next_week\n",
    "df_stats['returns_unit_next_week-zscore'] = stats.zscore(df_stats['returns_unit_next_week'])\n",
    "df_stats[['returns_unit_next_week','returns_unit_next_week-zscore']].describe().round(3)"
   ]
  },
  {
   "cell_type": "code",
   "execution_count": 13,
   "id": "ef2aa250",
   "metadata": {},
   "outputs": [
    {
     "data": {
      "text/html": [
       "<div>\n",
       "<style scoped>\n",
       "    .dataframe tbody tr th:only-of-type {\n",
       "        vertical-align: middle;\n",
       "    }\n",
       "\n",
       "    .dataframe tbody tr th {\n",
       "        vertical-align: top;\n",
       "    }\n",
       "\n",
       "    .dataframe thead th {\n",
       "        text-align: right;\n",
       "    }\n",
       "</style>\n",
       "<table border=\"1\" class=\"dataframe\">\n",
       "  <thead>\n",
       "    <tr style=\"text-align: right;\">\n",
       "      <th></th>\n",
       "      <th>returns_next_week</th>\n",
       "      <th>returns_next_week-zscore</th>\n",
       "    </tr>\n",
       "  </thead>\n",
       "  <tbody>\n",
       "    <tr>\n",
       "      <th>count</th>\n",
       "      <td>971976.000</td>\n",
       "      <td>971976.000</td>\n",
       "    </tr>\n",
       "    <tr>\n",
       "      <th>mean</th>\n",
       "      <td>1.297</td>\n",
       "      <td>0.000</td>\n",
       "    </tr>\n",
       "    <tr>\n",
       "      <th>std</th>\n",
       "      <td>53.984</td>\n",
       "      <td>1.000</td>\n",
       "    </tr>\n",
       "    <tr>\n",
       "      <th>min</th>\n",
       "      <td>0.000</td>\n",
       "      <td>-0.024</td>\n",
       "    </tr>\n",
       "    <tr>\n",
       "      <th>25%</th>\n",
       "      <td>0.000</td>\n",
       "      <td>-0.024</td>\n",
       "    </tr>\n",
       "    <tr>\n",
       "      <th>50%</th>\n",
       "      <td>0.000</td>\n",
       "      <td>-0.024</td>\n",
       "    </tr>\n",
       "    <tr>\n",
       "      <th>75%</th>\n",
       "      <td>0.000</td>\n",
       "      <td>-0.024</td>\n",
       "    </tr>\n",
       "    <tr>\n",
       "      <th>max</th>\n",
       "      <td>49500.000</td>\n",
       "      <td>916.914</td>\n",
       "    </tr>\n",
       "  </tbody>\n",
       "</table>\n",
       "</div>"
      ],
      "text/plain": [
       "       returns_next_week  returns_next_week-zscore\n",
       "count         971976.000                971976.000\n",
       "mean               1.297                     0.000\n",
       "std               53.984                     1.000\n",
       "min                0.000                    -0.024\n",
       "25%                0.000                    -0.024\n",
       "50%                0.000                    -0.024\n",
       "75%                0.000                    -0.024\n",
       "max            49500.000                   916.914"
      ]
     },
     "execution_count": 13,
     "metadata": {},
     "output_type": "execute_result"
    }
   ],
   "source": [
    "# returns_next_week\n",
    "df_stats['returns_next_week-zscore'] = stats.zscore(df_stats['returns_next_week'])\n",
    "df_stats[['returns_next_week','returns_next_week-zscore']].describe().round(3)"
   ]
  },
  {
   "cell_type": "code",
   "execution_count": 14,
   "id": "4fe7bfbe",
   "metadata": {},
   "outputs": [
    {
     "data": {
      "text/html": [
       "<div>\n",
       "<style scoped>\n",
       "    .dataframe tbody tr th:only-of-type {\n",
       "        vertical-align: middle;\n",
       "    }\n",
       "\n",
       "    .dataframe tbody tr th {\n",
       "        vertical-align: top;\n",
       "    }\n",
       "\n",
       "    .dataframe thead th {\n",
       "        text-align: right;\n",
       "    }\n",
       "</style>\n",
       "<table border=\"1\" class=\"dataframe\">\n",
       "  <thead>\n",
       "    <tr style=\"text-align: right;\">\n",
       "      <th></th>\n",
       "      <th>target</th>\n",
       "      <th>target-zscore</th>\n",
       "    </tr>\n",
       "  </thead>\n",
       "  <tbody>\n",
       "    <tr>\n",
       "      <th>count</th>\n",
       "      <td>971976.000</td>\n",
       "      <td>971976.000</td>\n",
       "    </tr>\n",
       "    <tr>\n",
       "      <th>mean</th>\n",
       "      <td>7.235</td>\n",
       "      <td>-0.000</td>\n",
       "    </tr>\n",
       "    <tr>\n",
       "      <th>std</th>\n",
       "      <td>21.254</td>\n",
       "      <td>1.000</td>\n",
       "    </tr>\n",
       "    <tr>\n",
       "      <th>min</th>\n",
       "      <td>0.000</td>\n",
       "      <td>-0.340</td>\n",
       "    </tr>\n",
       "    <tr>\n",
       "      <th>25%</th>\n",
       "      <td>2.000</td>\n",
       "      <td>-0.246</td>\n",
       "    </tr>\n",
       "    <tr>\n",
       "      <th>50%</th>\n",
       "      <td>3.000</td>\n",
       "      <td>-0.199</td>\n",
       "    </tr>\n",
       "    <tr>\n",
       "      <th>75%</th>\n",
       "      <td>6.000</td>\n",
       "      <td>-0.058</td>\n",
       "    </tr>\n",
       "    <tr>\n",
       "      <th>max</th>\n",
       "      <td>5000.000</td>\n",
       "      <td>234.913</td>\n",
       "    </tr>\n",
       "  </tbody>\n",
       "</table>\n",
       "</div>"
      ],
      "text/plain": [
       "           target  target-zscore\n",
       "count  971976.000     971976.000\n",
       "mean        7.235         -0.000\n",
       "std        21.254          1.000\n",
       "min         0.000         -0.340\n",
       "25%         2.000         -0.246\n",
       "50%         3.000         -0.199\n",
       "75%         6.000         -0.058\n",
       "max      5000.000        234.913"
      ]
     },
     "execution_count": 14,
     "metadata": {},
     "output_type": "execute_result"
    }
   ],
   "source": [
    "# target\n",
    "df_stats['target-zscore'] = stats.zscore(df_stats['target'])\n",
    "df_stats[['target','target-zscore']].describe().round(3)"
   ]
  },
  {
   "cell_type": "markdown",
   "id": "45c835c2",
   "metadata": {},
   "source": [
    "## Outlier finder\n",
    "important stuff starts here"
   ]
  },
  {
   "cell_type": "markdown",
   "id": "8a5e58c0",
   "metadata": {},
   "source": [
    "\\\n",
    "define function to find outliers in a specific column"
   ]
  },
  {
   "cell_type": "code",
   "execution_count": 4,
   "id": "d448d8c3",
   "metadata": {},
   "outputs": [],
   "source": [
    "def find_outliers(col):\n",
    "    from scipy import stats\n",
    "    z = np.abs(stats.zscore(col))\n",
    "    idx_outliers = np.where(z>1.5,True,False)\n",
    "    return pd.Series(idx_outliers,index=col.index)"
   ]
  },
  {
   "cell_type": "code",
   "execution_count": 5,
   "id": "c30a0ada",
   "metadata": {},
   "outputs": [
    {
     "data": {
      "text/plain": [
       "0          True\n",
       "1         False\n",
       "2         False\n",
       "3         False\n",
       "4         False\n",
       "          ...  \n",
       "971971    False\n",
       "971972    False\n",
       "971973    False\n",
       "971974    False\n",
       "971975    False\n",
       "Length: 971976, dtype: bool"
      ]
     },
     "execution_count": 5,
     "metadata": {},
     "output_type": "execute_result"
    }
   ],
   "source": [
    "find_outliers(df['target'])"
   ]
  },
  {
   "cell_type": "markdown",
   "id": "450e8e1b",
   "metadata": {},
   "source": [
    "choose columns for outlier elimination"
   ]
  },
  {
   "cell_type": "code",
   "execution_count": 6,
   "id": "cc788581",
   "metadata": {
    "collapsed": true
   },
   "outputs": [
    {
     "ename": "KeyError",
     "evalue": "\"['sales_unit_this_week', 'sales_this_week', 'returns_unit_next_week', 'returns_next_week'] not in index\"",
     "output_type": "error",
     "traceback": [
      "\u001b[1;31m---------------------------------------------------------------------------\u001b[0m",
      "\u001b[1;31mKeyError\u001b[0m                                  Traceback (most recent call last)",
      "\u001b[1;32m~\\AppData\\Local\\Temp\\ipykernel_17332\\2703221199.py\u001b[0m in \u001b[0;36m<module>\u001b[1;34m\u001b[0m\n\u001b[1;32m----> 1\u001b[1;33m \u001b[0mout_columns\u001b[0m \u001b[1;33m=\u001b[0m \u001b[0mdf\u001b[0m\u001b[1;33m[\u001b[0m\u001b[1;33m[\u001b[0m\u001b[1;34m'sales_unit_this_week'\u001b[0m\u001b[1;33m,\u001b[0m\u001b[1;34m'sales_this_week'\u001b[0m\u001b[1;33m,\u001b[0m\u001b[1;34m'returns_unit_next_week'\u001b[0m\u001b[1;33m,\u001b[0m\u001b[1;34m'returns_next_week'\u001b[0m\u001b[1;33m,\u001b[0m\u001b[1;34m'target'\u001b[0m\u001b[1;33m]\u001b[0m\u001b[1;33m]\u001b[0m\u001b[1;33m.\u001b[0m\u001b[0mcolumns\u001b[0m\u001b[1;33m\u001b[0m\u001b[1;33m\u001b[0m\u001b[0m\n\u001b[0m\u001b[0;32m      2\u001b[0m \u001b[0mout_columns\u001b[0m\u001b[1;33m\u001b[0m\u001b[1;33m\u001b[0m\u001b[0m\n",
      "\u001b[1;32mE:\\Programas\\Anaconda\\lib\\site-packages\\pandas\\core\\frame.py\u001b[0m in \u001b[0;36m__getitem__\u001b[1;34m(self, key)\u001b[0m\n\u001b[0;32m   3509\u001b[0m             \u001b[1;32mif\u001b[0m \u001b[0mis_iterator\u001b[0m\u001b[1;33m(\u001b[0m\u001b[0mkey\u001b[0m\u001b[1;33m)\u001b[0m\u001b[1;33m:\u001b[0m\u001b[1;33m\u001b[0m\u001b[1;33m\u001b[0m\u001b[0m\n\u001b[0;32m   3510\u001b[0m                 \u001b[0mkey\u001b[0m \u001b[1;33m=\u001b[0m \u001b[0mlist\u001b[0m\u001b[1;33m(\u001b[0m\u001b[0mkey\u001b[0m\u001b[1;33m)\u001b[0m\u001b[1;33m\u001b[0m\u001b[1;33m\u001b[0m\u001b[0m\n\u001b[1;32m-> 3511\u001b[1;33m             \u001b[0mindexer\u001b[0m \u001b[1;33m=\u001b[0m \u001b[0mself\u001b[0m\u001b[1;33m.\u001b[0m\u001b[0mcolumns\u001b[0m\u001b[1;33m.\u001b[0m\u001b[0m_get_indexer_strict\u001b[0m\u001b[1;33m(\u001b[0m\u001b[0mkey\u001b[0m\u001b[1;33m,\u001b[0m \u001b[1;34m\"columns\"\u001b[0m\u001b[1;33m)\u001b[0m\u001b[1;33m[\u001b[0m\u001b[1;36m1\u001b[0m\u001b[1;33m]\u001b[0m\u001b[1;33m\u001b[0m\u001b[1;33m\u001b[0m\u001b[0m\n\u001b[0m\u001b[0;32m   3512\u001b[0m \u001b[1;33m\u001b[0m\u001b[0m\n\u001b[0;32m   3513\u001b[0m         \u001b[1;31m# take() does not accept boolean indexers\u001b[0m\u001b[1;33m\u001b[0m\u001b[1;33m\u001b[0m\u001b[0m\n",
      "\u001b[1;32mE:\\Programas\\Anaconda\\lib\\site-packages\\pandas\\core\\indexes\\base.py\u001b[0m in \u001b[0;36m_get_indexer_strict\u001b[1;34m(self, key, axis_name)\u001b[0m\n\u001b[0;32m   5794\u001b[0m             \u001b[0mkeyarr\u001b[0m\u001b[1;33m,\u001b[0m \u001b[0mindexer\u001b[0m\u001b[1;33m,\u001b[0m \u001b[0mnew_indexer\u001b[0m \u001b[1;33m=\u001b[0m \u001b[0mself\u001b[0m\u001b[1;33m.\u001b[0m\u001b[0m_reindex_non_unique\u001b[0m\u001b[1;33m(\u001b[0m\u001b[0mkeyarr\u001b[0m\u001b[1;33m)\u001b[0m\u001b[1;33m\u001b[0m\u001b[1;33m\u001b[0m\u001b[0m\n\u001b[0;32m   5795\u001b[0m \u001b[1;33m\u001b[0m\u001b[0m\n\u001b[1;32m-> 5796\u001b[1;33m         \u001b[0mself\u001b[0m\u001b[1;33m.\u001b[0m\u001b[0m_raise_if_missing\u001b[0m\u001b[1;33m(\u001b[0m\u001b[0mkeyarr\u001b[0m\u001b[1;33m,\u001b[0m \u001b[0mindexer\u001b[0m\u001b[1;33m,\u001b[0m \u001b[0maxis_name\u001b[0m\u001b[1;33m)\u001b[0m\u001b[1;33m\u001b[0m\u001b[1;33m\u001b[0m\u001b[0m\n\u001b[0m\u001b[0;32m   5797\u001b[0m \u001b[1;33m\u001b[0m\u001b[0m\n\u001b[0;32m   5798\u001b[0m         \u001b[0mkeyarr\u001b[0m \u001b[1;33m=\u001b[0m \u001b[0mself\u001b[0m\u001b[1;33m.\u001b[0m\u001b[0mtake\u001b[0m\u001b[1;33m(\u001b[0m\u001b[0mindexer\u001b[0m\u001b[1;33m)\u001b[0m\u001b[1;33m\u001b[0m\u001b[1;33m\u001b[0m\u001b[0m\n",
      "\u001b[1;32mE:\\Programas\\Anaconda\\lib\\site-packages\\pandas\\core\\indexes\\base.py\u001b[0m in \u001b[0;36m_raise_if_missing\u001b[1;34m(self, key, indexer, axis_name)\u001b[0m\n\u001b[0;32m   5857\u001b[0m \u001b[1;33m\u001b[0m\u001b[0m\n\u001b[0;32m   5858\u001b[0m             \u001b[0mnot_found\u001b[0m \u001b[1;33m=\u001b[0m \u001b[0mlist\u001b[0m\u001b[1;33m(\u001b[0m\u001b[0mensure_index\u001b[0m\u001b[1;33m(\u001b[0m\u001b[0mkey\u001b[0m\u001b[1;33m)\u001b[0m\u001b[1;33m[\u001b[0m\u001b[0mmissing_mask\u001b[0m\u001b[1;33m.\u001b[0m\u001b[0mnonzero\u001b[0m\u001b[1;33m(\u001b[0m\u001b[1;33m)\u001b[0m\u001b[1;33m[\u001b[0m\u001b[1;36m0\u001b[0m\u001b[1;33m]\u001b[0m\u001b[1;33m]\u001b[0m\u001b[1;33m.\u001b[0m\u001b[0munique\u001b[0m\u001b[1;33m(\u001b[0m\u001b[1;33m)\u001b[0m\u001b[1;33m)\u001b[0m\u001b[1;33m\u001b[0m\u001b[1;33m\u001b[0m\u001b[0m\n\u001b[1;32m-> 5859\u001b[1;33m             \u001b[1;32mraise\u001b[0m \u001b[0mKeyError\u001b[0m\u001b[1;33m(\u001b[0m\u001b[1;34mf\"{not_found} not in index\"\u001b[0m\u001b[1;33m)\u001b[0m\u001b[1;33m\u001b[0m\u001b[1;33m\u001b[0m\u001b[0m\n\u001b[0m\u001b[0;32m   5860\u001b[0m \u001b[1;33m\u001b[0m\u001b[0m\n\u001b[0;32m   5861\u001b[0m     \u001b[1;33m@\u001b[0m\u001b[0moverload\u001b[0m\u001b[1;33m\u001b[0m\u001b[1;33m\u001b[0m\u001b[0m\n",
      "\u001b[1;31mKeyError\u001b[0m: \"['sales_unit_this_week', 'sales_this_week', 'returns_unit_next_week', 'returns_next_week'] not in index\""
     ]
    }
   ],
   "source": [
    "out_columns = df[['sales_unit_this_week','sales_this_week','returns_unit_next_week','returns_next_week','target']].columns\n",
    "out_columns"
   ]
  },
  {
   "cell_type": "markdown",
   "id": "dc0f4fdc",
   "metadata": {},
   "source": [
    "find outliers in all desired columns"
   ]
  },
  {
   "cell_type": "code",
   "execution_count": 43,
   "id": "502f5b6a",
   "metadata": {},
   "outputs": [
    {
     "data": {
      "text/html": [
       "<div>\n",
       "<style scoped>\n",
       "    .dataframe tbody tr th:only-of-type {\n",
       "        vertical-align: middle;\n",
       "    }\n",
       "\n",
       "    .dataframe tbody tr th {\n",
       "        vertical-align: top;\n",
       "    }\n",
       "\n",
       "    .dataframe thead th {\n",
       "        text-align: right;\n",
       "    }\n",
       "</style>\n",
       "<table border=\"1\" class=\"dataframe\">\n",
       "  <thead>\n",
       "    <tr style=\"text-align: right;\">\n",
       "      <th></th>\n",
       "      <th>sales_unit_this_week</th>\n",
       "      <th>sales_this_week</th>\n",
       "      <th>returns_unit_next_week</th>\n",
       "      <th>returns_next_week</th>\n",
       "      <th>target</th>\n",
       "    </tr>\n",
       "  </thead>\n",
       "  <tbody>\n",
       "    <tr>\n",
       "      <th>0</th>\n",
       "      <td>True</td>\n",
       "      <td>False</td>\n",
       "      <td>False</td>\n",
       "      <td>False</td>\n",
       "      <td>True</td>\n",
       "    </tr>\n",
       "    <tr>\n",
       "      <th>1</th>\n",
       "      <td>False</td>\n",
       "      <td>False</td>\n",
       "      <td>False</td>\n",
       "      <td>False</td>\n",
       "      <td>False</td>\n",
       "    </tr>\n",
       "    <tr>\n",
       "      <th>2</th>\n",
       "      <td>False</td>\n",
       "      <td>False</td>\n",
       "      <td>False</td>\n",
       "      <td>False</td>\n",
       "      <td>False</td>\n",
       "    </tr>\n",
       "    <tr>\n",
       "      <th>3</th>\n",
       "      <td>False</td>\n",
       "      <td>False</td>\n",
       "      <td>False</td>\n",
       "      <td>False</td>\n",
       "      <td>False</td>\n",
       "    </tr>\n",
       "    <tr>\n",
       "      <th>4</th>\n",
       "      <td>False</td>\n",
       "      <td>False</td>\n",
       "      <td>False</td>\n",
       "      <td>False</td>\n",
       "      <td>False</td>\n",
       "    </tr>\n",
       "  </tbody>\n",
       "</table>\n",
       "</div>"
      ],
      "text/plain": [
       "   sales_unit_this_week  sales_this_week  returns_unit_next_week  \\\n",
       "0                  True            False                   False   \n",
       "1                 False            False                   False   \n",
       "2                 False            False                   False   \n",
       "3                 False            False                   False   \n",
       "4                 False            False                   False   \n",
       "\n",
       "   returns_next_week  target  \n",
       "0              False    True  \n",
       "1              False   False  \n",
       "2              False   False  \n",
       "3              False   False  \n",
       "4              False   False  "
      ]
     },
     "execution_count": 43,
     "metadata": {},
     "output_type": "execute_result"
    }
   ],
   "source": [
    "df_outliers = pd.DataFrame()\n",
    "for col in out_columns:\n",
    "    df_outliers[col] = find_outliers(df[col])\n",
    "df_outliers.head()"
   ]
  },
  {
   "cell_type": "markdown",
   "id": "e9828647",
   "metadata": {},
   "source": [
    "create variable that is true for any column with at least one outlier"
   ]
  },
  {
   "cell_type": "code",
   "execution_count": 44,
   "id": "df6dde7f",
   "metadata": {},
   "outputs": [],
   "source": [
    "test_out = df_outliers.apply(lambda x: np.any(x), axis=1)"
   ]
  },
  {
   "cell_type": "code",
   "execution_count": 45,
   "id": "91a0f631",
   "metadata": {},
   "outputs": [
    {
     "name": "stdout",
     "output_type": "stream",
     "text": [
      "971976 (971976, 5)\n"
     ]
    },
    {
     "data": {
      "text/plain": [
       "0          True\n",
       "1         False\n",
       "2         False\n",
       "3         False\n",
       "4         False\n",
       "          ...  \n",
       "971971    False\n",
       "971972    False\n",
       "971973    False\n",
       "971974    False\n",
       "971975    False\n",
       "Length: 971976, dtype: bool"
      ]
     },
     "execution_count": 45,
     "metadata": {},
     "output_type": "execute_result"
    }
   ],
   "source": [
    "print(len(test_out), df_outliers.shape)\n",
    "test_out"
   ]
  },
  {
   "cell_type": "code",
   "execution_count": 46,
   "id": "54913cd7",
   "metadata": {},
   "outputs": [
    {
     "data": {
      "text/plain": [
       "35312"
      ]
     },
     "execution_count": 46,
     "metadata": {},
     "output_type": "execute_result"
    }
   ],
   "source": [
    "np.sum(test_out)"
   ]
  },
  {
   "cell_type": "markdown",
   "id": "df08bea6",
   "metadata": {},
   "source": [
    "## create final dataframe"
   ]
  },
  {
   "cell_type": "code",
   "execution_count": 47,
   "id": "e696941d",
   "metadata": {},
   "outputs": [
    {
     "data": {
      "text/html": [
       "<div>\n",
       "<style scoped>\n",
       "    .dataframe tbody tr th:only-of-type {\n",
       "        vertical-align: middle;\n",
       "    }\n",
       "\n",
       "    .dataframe tbody tr th {\n",
       "        vertical-align: top;\n",
       "    }\n",
       "\n",
       "    .dataframe thead th {\n",
       "        text-align: right;\n",
       "    }\n",
       "</style>\n",
       "<table border=\"1\" class=\"dataframe\">\n",
       "  <thead>\n",
       "    <tr style=\"text-align: right;\">\n",
       "      <th></th>\n",
       "      <th>week_number</th>\n",
       "      <th>sales_depot_id</th>\n",
       "      <th>sales_channel_id</th>\n",
       "      <th>route_id</th>\n",
       "      <th>client_id</th>\n",
       "      <th>product_id</th>\n",
       "      <th>sales_unit_this_week</th>\n",
       "      <th>sales_this_week</th>\n",
       "      <th>returns_unit_next_week</th>\n",
       "      <th>returns_next_week</th>\n",
       "      <th>weight</th>\n",
       "      <th>target</th>\n",
       "    </tr>\n",
       "  </thead>\n",
       "  <tbody>\n",
       "    <tr>\n",
       "      <th>count</th>\n",
       "      <td>936664.000000</td>\n",
       "      <td>936664.000000</td>\n",
       "      <td>936664.000000</td>\n",
       "      <td>936664.000000</td>\n",
       "      <td>9.366640e+05</td>\n",
       "      <td>936664.000000</td>\n",
       "      <td>936664.000000</td>\n",
       "      <td>936664.000000</td>\n",
       "      <td>936664.000000</td>\n",
       "      <td>936664.000000</td>\n",
       "      <td>936664.000000</td>\n",
       "      <td>936664.000000</td>\n",
       "    </tr>\n",
       "    <tr>\n",
       "      <th>mean</th>\n",
       "      <td>5.946232</td>\n",
       "      <td>2537.299202</td>\n",
       "      <td>1.355749</td>\n",
       "      <td>2107.157105</td>\n",
       "      <td>1.790573e+06</td>\n",
       "      <td>20634.228583</td>\n",
       "      <td>5.170975</td>\n",
       "      <td>45.553490</td>\n",
       "      <td>0.039746</td>\n",
       "      <td>0.439291</td>\n",
       "      <td>192.380398</td>\n",
       "      <td>5.138262</td>\n",
       "    </tr>\n",
       "    <tr>\n",
       "      <th>std</th>\n",
       "      <td>2.013173</td>\n",
       "      <td>4084.437642</td>\n",
       "      <td>1.419792</td>\n",
       "      <td>1478.590741</td>\n",
       "      <td>1.833027e+06</td>\n",
       "      <td>18650.665556</td>\n",
       "      <td>5.562449</td>\n",
       "      <td>52.120537</td>\n",
       "      <td>0.263132</td>\n",
       "      <td>3.087689</td>\n",
       "      <td>195.184467</td>\n",
       "      <td>5.574517</td>\n",
       "    </tr>\n",
       "    <tr>\n",
       "      <th>min</th>\n",
       "      <td>3.000000</td>\n",
       "      <td>1110.000000</td>\n",
       "      <td>1.000000</td>\n",
       "      <td>1.000000</td>\n",
       "      <td>6.500000e+01</td>\n",
       "      <td>41.000000</td>\n",
       "      <td>0.000000</td>\n",
       "      <td>0.000000</td>\n",
       "      <td>0.000000</td>\n",
       "      <td>0.000000</td>\n",
       "      <td>1.320000</td>\n",
       "      <td>0.000000</td>\n",
       "    </tr>\n",
       "    <tr>\n",
       "      <th>25%</th>\n",
       "      <td>4.000000</td>\n",
       "      <td>1311.000000</td>\n",
       "      <td>1.000000</td>\n",
       "      <td>1161.000000</td>\n",
       "      <td>3.531200e+05</td>\n",
       "      <td>1242.000000</td>\n",
       "      <td>2.000000</td>\n",
       "      <td>16.670000</td>\n",
       "      <td>0.000000</td>\n",
       "      <td>0.000000</td>\n",
       "      <td>80.000000</td>\n",
       "      <td>2.000000</td>\n",
       "    </tr>\n",
       "    <tr>\n",
       "      <th>50%</th>\n",
       "      <td>6.000000</td>\n",
       "      <td>1613.000000</td>\n",
       "      <td>1.000000</td>\n",
       "      <td>1281.000000</td>\n",
       "      <td>1.180745e+06</td>\n",
       "      <td>30532.000000</td>\n",
       "      <td>3.000000</td>\n",
       "      <td>29.490000</td>\n",
       "      <td>0.000000</td>\n",
       "      <td>0.000000</td>\n",
       "      <td>120.000000</td>\n",
       "      <td>3.000000</td>\n",
       "    </tr>\n",
       "    <tr>\n",
       "      <th>75%</th>\n",
       "      <td>8.000000</td>\n",
       "      <td>2034.000000</td>\n",
       "      <td>1.000000</td>\n",
       "      <td>2802.000000</td>\n",
       "      <td>2.364550e+06</td>\n",
       "      <td>37361.000000</td>\n",
       "      <td>6.000000</td>\n",
       "      <td>53.280000</td>\n",
       "      <td>0.000000</td>\n",
       "      <td>0.000000</td>\n",
       "      <td>255.000000</td>\n",
       "      <td>6.000000</td>\n",
       "    </tr>\n",
       "    <tr>\n",
       "      <th>max</th>\n",
       "      <td>9.000000</td>\n",
       "      <td>25759.000000</td>\n",
       "      <td>11.000000</td>\n",
       "      <td>9835.000000</td>\n",
       "      <td>1.998863e+07</td>\n",
       "      <td>49994.000000</td>\n",
       "      <td>39.000000</td>\n",
       "      <td>501.600000</td>\n",
       "      <td>3.000000</td>\n",
       "      <td>81.900000</td>\n",
       "      <td>12000.000000</td>\n",
       "      <td>39.000000</td>\n",
       "    </tr>\n",
       "  </tbody>\n",
       "</table>\n",
       "</div>"
      ],
      "text/plain": [
       "         week_number  sales_depot_id  sales_channel_id       route_id  \\\n",
       "count  936664.000000   936664.000000     936664.000000  936664.000000   \n",
       "mean        5.946232     2537.299202          1.355749    2107.157105   \n",
       "std         2.013173     4084.437642          1.419792    1478.590741   \n",
       "min         3.000000     1110.000000          1.000000       1.000000   \n",
       "25%         4.000000     1311.000000          1.000000    1161.000000   \n",
       "50%         6.000000     1613.000000          1.000000    1281.000000   \n",
       "75%         8.000000     2034.000000          1.000000    2802.000000   \n",
       "max         9.000000    25759.000000         11.000000    9835.000000   \n",
       "\n",
       "          client_id     product_id  sales_unit_this_week  sales_this_week  \\\n",
       "count  9.366640e+05  936664.000000         936664.000000    936664.000000   \n",
       "mean   1.790573e+06   20634.228583              5.170975        45.553490   \n",
       "std    1.833027e+06   18650.665556              5.562449        52.120537   \n",
       "min    6.500000e+01      41.000000              0.000000         0.000000   \n",
       "25%    3.531200e+05    1242.000000              2.000000        16.670000   \n",
       "50%    1.180745e+06   30532.000000              3.000000        29.490000   \n",
       "75%    2.364550e+06   37361.000000              6.000000        53.280000   \n",
       "max    1.998863e+07   49994.000000             39.000000       501.600000   \n",
       "\n",
       "       returns_unit_next_week  returns_next_week         weight         target  \n",
       "count           936664.000000      936664.000000  936664.000000  936664.000000  \n",
       "mean                 0.039746           0.439291     192.380398       5.138262  \n",
       "std                  0.263132           3.087689     195.184467       5.574517  \n",
       "min                  0.000000           0.000000       1.320000       0.000000  \n",
       "25%                  0.000000           0.000000      80.000000       2.000000  \n",
       "50%                  0.000000           0.000000     120.000000       3.000000  \n",
       "75%                  0.000000           0.000000     255.000000       6.000000  \n",
       "max                  3.000000          81.900000   12000.000000      39.000000  "
      ]
     },
     "execution_count": 47,
     "metadata": {},
     "output_type": "execute_result"
    }
   ],
   "source": [
    "df_clean = df.loc[test_out==False]\n",
    "df_clean.describe()"
   ]
  },
  {
   "cell_type": "markdown",
   "id": "e80d0d31",
   "metadata": {},
   "source": [
    "## create target"
   ]
  },
  {
   "cell_type": "code",
   "execution_count": null,
   "id": "ed1ead16",
   "metadata": {},
   "outputs": [],
   "source": [
    "create_target(df)"
   ]
  },
  {
   "cell_type": "markdown",
   "id": "85582887",
   "metadata": {},
   "source": [
    "## save to csv"
   ]
  },
  {
   "cell_type": "code",
   "execution_count": 56,
   "id": "0c8f46e8",
   "metadata": {},
   "outputs": [],
   "source": [
    "df_clean.to_csv('data/03-outliers-zscore15.csv',index=False)"
   ]
  }
 ],
 "metadata": {
  "kernelspec": {
   "display_name": "Python 3 (ipykernel)",
   "language": "python",
   "name": "python3"
  },
  "language_info": {
   "codemirror_mode": {
    "name": "ipython",
    "version": 3
   },
   "file_extension": ".py",
   "mimetype": "text/x-python",
   "name": "python",
   "nbconvert_exporter": "python",
   "pygments_lexer": "ipython3",
   "version": "3.9.13"
  }
 },
 "nbformat": 4,
 "nbformat_minor": 5
}
