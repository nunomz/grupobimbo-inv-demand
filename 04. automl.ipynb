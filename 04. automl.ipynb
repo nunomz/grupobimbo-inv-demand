{
 "cells": [
  {
   "cell_type": "code",
   "execution_count": null,
   "id": "befad708",
   "metadata": {},
   "outputs": [],
   "source": [
    "import warnings\n",
    "warnings.filterwarnings(\"ignore\")"
   ]
  },
  {
   "cell_type": "code",
   "execution_count": null,
   "id": "b7c30f7f",
   "metadata": {},
   "outputs": [],
   "source": [
    "import pandas as pd\n",
    "from sklearn.model_selection import cross_validate, StratifiedKFold, train_test_split, RepeatedStratifiedKFold, train_test_split\n",
    "import sklearn.metrics"
   ]
  },
  {
   "cell_type": "code",
   "execution_count": null,
   "id": "be8fcd32",
   "metadata": {},
   "outputs": [],
   "source": [
    "def specificity_score(y_true, y_pred):\n",
    "    tn, fp, fn, tp = confusion_matrix(y_true, y_pred).ravel()\n",
    "    return tn / (tn+fp)"
   ]
  },
  {
   "cell_type": "code",
   "execution_count": null,
   "id": "ca443e22",
   "metadata": {},
   "outputs": [],
   "source": [
    "METRICS = {\n",
    "        \"accuracy\": make_scorer(accuracy_score),\n",
    "        \"precision\": make_scorer(precision_score),\n",
    "        \"recall\": make_scorer(recall_score),\n",
    "        \"f1\": make_scorer(f1_score),\n",
    "        \"AUC\": make_scorer(roc_auc_score, needs_proba=True),\n",
    "        \"specificity\": make_scorer(specificity_score),\n",
    "        \"kappa\":make_scorer(cohen_kappa_score)\n",
    "}"
   ]
  },
  {
   "cell_type": "code",
   "execution_count": null,
   "id": "6b5fde75",
   "metadata": {},
   "outputs": [],
   "source": [
    "#d = pd.read_csv(\"data/03-sem-town-shortname.csv\")\n",
    "#d = pd.read_csv(\"data/03-pico-sem-town-shortname.csv\")\n",
    "#d = pd.read_csv(\"data/03-pico-sem-town-shortname.csv\")\n",
    "#d = pd.read_csv(\"data/03-idf.csv\")\n",
    "#d = pd.read_csv(\"data/03-idf-completo.csv\")\n",
    "d = pd.read_csv(\"data/03-idf-completo-fixedq.csv\")\n",
    "d.head()"
   ]
  },
  {
   "cell_type": "code",
   "execution_count": null,
   "id": "d08a9092",
   "metadata": {},
   "outputs": [],
   "source": [
    "# get small sample of data\n",
    "d = d.sample(frac=0.01)\n",
    "d"
   ]
  },
  {
   "cell_type": "code",
   "execution_count": null,
   "id": "ab84693c",
   "metadata": {},
   "outputs": [],
   "source": [
    "X, y = d.drop(\"target\", axis=1), d[\"target\"]"
   ]
  },
  {
   "cell_type": "code",
   "execution_count": null,
   "id": "ff58597f",
   "metadata": {},
   "outputs": [],
   "source": [
    "X_train, X_test, y_train, y_test = train_test_split(X, y, test_size=0.33, random_state=42)"
   ]
  },
  {
   "cell_type": "markdown",
   "id": "7f4033e7",
   "metadata": {},
   "source": [
    "## autosklearn\n",
    "only works on ubuntu-based linux distros\n",
    "- https://automl.github.io/auto-sklearn/master/"
   ]
  },
  {
   "cell_type": "code",
   "execution_count": null,
   "id": "9c8c0ce6",
   "metadata": {},
   "outputs": [],
   "source": [
    "pip3 install autosklearn"
   ]
  },
  {
   "cell_type": "code",
   "execution_count": null,
   "id": "10e9e573",
   "metadata": {},
   "outputs": [],
   "source": [
    "import autosklearn.classification\n",
    "cls = autosklearn.classification.AutoSklearnClassifier()\n",
    "cls.fit(X_train, y_train)\n",
    "predictions = cls.predict(X_test)\n",
    "print(\"Accuracy score:\", sklearn.metrics.accuracy_score(y_test, predictions))"
   ]
  },
  {
   "cell_type": "code",
   "execution_count": null,
   "id": "6b755f99",
   "metadata": {},
   "outputs": [],
   "source": [
    "scores = cross_validate(cls, X, y, cv=splitter, scoring=METRICS)\n",
    "cls_scores = pd.DataFrame(scores)\n",
    "pd.DataFrame(cls_scores.mean()).T"
   ]
  },
  {
   "cell_type": "markdown",
   "id": "fa6999de",
   "metadata": {},
   "source": [
    "This will run for one hour and should result in an accuracy above 0.98\\\n",
    "spoiler: doesn't"
   ]
  },
  {
   "cell_type": "code",
   "execution_count": null,
   "id": "8fcdaf4a",
   "metadata": {},
   "outputs": [],
   "source": [
    "if __name__ == \"__main__\":\n",
    "    X, y = sklearn.datasets.load_digits(return_X_y=True)\n",
    "    X_train, X_test, y_train, y_test = \\\n",
    "        sklearn.model_selection.train_test_split(X, y, random_state=1)\n",
    "    automl = autosklearn.classification.AutoSklearnClassifier()\n",
    "    automl.fit(X_train, y_train)\n",
    "    y_hat = automl.predict(X_test)\n",
    "    print(\"Accuracy score\", sklearn.metrics.accuracy_score(y_test, y_hat))"
   ]
  },
  {
   "cell_type": "markdown",
   "id": "0babde2f",
   "metadata": {},
   "source": [
    "## TPOT\n",
    "- http://epistasislab.github.io/tpot/api/#classification"
   ]
  },
  {
   "cell_type": "code",
   "execution_count": null,
   "id": "40497a89",
   "metadata": {},
   "outputs": [],
   "source": [
    "from tpot import TPOTClassifier"
   ]
  },
  {
   "cell_type": "code",
   "execution_count": null,
   "id": "4aab8073",
   "metadata": {},
   "outputs": [],
   "source": [
    "# define model evaluation\n",
    "cv = RepeatedStratifiedKFold(n_splits=10, n_repeats=3, random_state=1)\n",
    "# define search\n",
    "model = TPOTClassifier(generations=5, population_size=50, cv=cv, scoring='f1', verbosity=2, random_state=1, n_jobs=-1)\n",
    "# perform the search\n",
    "model.fit(X, y)\n",
    "# export the best model\n",
    "model.export('tpot_best_model.py')"
   ]
  },
  {
   "cell_type": "markdown",
   "id": "e21320ad",
   "metadata": {},
   "source": [
    "### optimized tpot"
   ]
  },
  {
   "cell_type": "code",
   "execution_count": null,
   "id": "3d52198e",
   "metadata": {},
   "outputs": [],
   "source": [
    "# define model evaluation\n",
    "cv = RepeatedStratifiedKFold(n_splits=10, n_repeats=3, random_state=1234)\n",
    "# define search\n",
    "model = TPOTClassifier(generations=10, population_size=100, cv=cv, scoring='f1', verbosity=2, random_state=1234, n_jobs=-1)\n",
    "# perform the search\n",
    "model.fit(X, y)\n",
    "# export the best model\n",
    "model.export('long-tpot_best_model.py')"
   ]
  }
 ],
 "metadata": {
  "kernelspec": {
   "display_name": "Python 3 (ipykernel)",
   "language": "python",
   "name": "python3"
  },
  "language_info": {
   "codemirror_mode": {
    "name": "ipython",
    "version": 3
   },
   "file_extension": ".py",
   "mimetype": "text/x-python",
   "name": "python",
   "nbconvert_exporter": "python",
   "pygments_lexer": "ipython3",
   "version": "3.9.13"
  }
 },
 "nbformat": 4,
 "nbformat_minor": 5
}
